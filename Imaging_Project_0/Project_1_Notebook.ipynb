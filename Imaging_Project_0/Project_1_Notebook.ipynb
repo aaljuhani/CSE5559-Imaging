{
 "cells": [
  {
   "cell_type": "markdown",
   "metadata": {},
   "source": [
    "Installing packages to the right python version"
   ]
  },
  {
   "cell_type": "code",
   "execution_count": null,
   "metadata": {
    "collapsed": true
   },
   "outputs": [],
   "source": [
    "!/usr/local/opt/python/bin/python2.7 -m pip install Pillow"
   ]
  },
  {
   "cell_type": "code",
   "execution_count": null,
   "metadata": {
    "collapsed": true
   },
   "outputs": [],
   "source": [
    "!brew install openslide\n",
    "!/usr/local/opt/python/bin/python2.7 -m pip install openslide-python"
   ]
  },
  {
   "cell_type": "markdown",
   "metadata": {},
   "source": [
    "# This segment performs preprocessing and tiling"
   ]
  },
  {
   "cell_type": "code",
   "execution_count": 1,
   "metadata": {},
   "outputs": [
    {
     "name": "stderr",
     "output_type": "stream",
     "text": [
      "Tiling slide: wrote 252/252 tilest/s]\n"
     ]
    },
    {
     "name": "stdout",
     "output_type": "stream",
     "text": [
      "Tiling completed on slide in:  <time here>\n"
     ]
    },
    {
     "name": "stderr",
     "output_type": "stream",
     "text": [
      "\r",
      "Tiling label: wrote 1/1 tiles\n",
      "\r",
      "Tiling macro: wrote 2/2 tiles\n",
      "\r",
      "Tiling thumbnail: wrote 1/1 tiles\n"
     ]
    },
    {
     "name": "stdout",
     "output_type": "stream",
     "text": [
      "Tiling completed on label in:  <time here>\n",
      "Tiling completed on macro in:  <time here>\n",
      "Tiling completed on thumbnail in:  <time here>\n"
     ]
    },
    {
     "name": "stderr",
     "output_type": "stream",
     "text": [
      "100%|██████████| 1/1 [00:49<00:00, 49.06s/it]\n"
     ]
    }
   ],
   "source": [
    "import glob\n",
    "import os\n",
    "\n",
    "from tqdm import tqdm\n",
    "\n",
    "import config as cfg\n",
    "import PIL\n",
    "import cv2\n",
    "from PIL import Image\n",
    "from tiler import WholeSlideTiler\n",
    "\n",
    "\n",
    "def main():\n",
    "    # open input_path, and process each wholeslide image\n",
    "    files = glob.glob(cfg.IMAGE_FOLDER_PATH + '/*.svs')\n",
    "    for slidepath in tqdm(files):\n",
    "        basename = os.path.splitext(os.path.basename(slidepath))[0]\n",
    "        basepath = os.path.join(cfg.OUTPUT_FOLDER_PATH, basename)\n",
    "        WholeSlideTiler(slidepath, basepath, cfg.IMG_FORMAT, cfg.TILE_SIZE, cfg.OVERLAP, cfg.LIMIT_BOUNDS, cfg.ROTATE,\n",
    "                        cfg.QUALITY, cfg.NUM_WORKERS, cfg.ONLY_LAST).run()\n",
    "\n",
    "\n",
    "if __name__ == '__main__':\n",
    "    main()\n"
   ]
  },
  {
   "cell_type": "markdown",
   "metadata": {},
   "source": [
    "Installing packages for file manipulation"
   ]
  },
  {
   "cell_type": "code",
   "execution_count": 2,
   "metadata": {},
   "outputs": [
    {
     "name": "stdout",
     "output_type": "stream",
     "text": [
      "Requirement already satisfied: tqdm in /usr/local/lib/python2.7/site-packages\n",
      "h\n"
     ]
    }
   ],
   "source": [
    "!pip install tqdm\n"
   ]
  },
  {
   "cell_type": "markdown",
   "metadata": {},
   "source": [
    "# This segment selects 10 tiles, performs normalization and displays the 10 tiles"
   ]
  },
  {
   "cell_type": "code",
   "execution_count": 2,
   "metadata": {},
   "outputs": [],
   "source": [
    "from __future__ import division\n",
    "\n",
    "import glob\n",
    "\n",
    "import cv2\n",
    "import numpy as np\n",
    "from tqdm import tqdm\n",
    "from PIL import Image \n",
    "from numpy import random\n",
    "import os\n",
    "\n",
    "\n",
    "def safe_ln(x, minval=0.0000000001):\n",
    "    return np.log(x.clip(min=minval))\n",
    "\n",
    "\n",
    "def normalize_staining(I=None):\n",
    "    I = I.astype(np.float64)\n",
    "    Io = 240\n",
    "    beta = 0.15\n",
    "    alpha = 1\n",
    "    HERef = np.array([[0.5626, 0.2159], [0.7201, 0.8012], [0.4062, 0.5581]])\n",
    "    maxCRef = np.array([1.9705, 1.0308])\n",
    "\n",
    "    (h, w, c) = np.shape(I)\n",
    "    I = np.reshape(I, (h * w, c), order='F')\n",
    "\n",
    "    # Step 1. Convert RGB to OD.\n",
    "    OD = - np.log((I + 1) / Io) # optical density where each channel in the image is normalized to values between [0, 1]\n",
    "\n",
    "    # Step 2. Remove data with OD intensity less than beta\n",
    "    ODhat = (OD[(np.logical_not((OD < beta).any(axis=1))), :])\n",
    "\n",
    "    # Step 3. Calculate SVD on the OD tuples\n",
    "    cov = np.cov(ODhat, rowvar=False)\n",
    "    (W, V) = np.linalg.eig(cov)\n",
    "\n",
    "    # Step 4. create plane from the SVD directions\n",
    "    # corresponding to the two largest singular values\n",
    "    Vec = - np.transpose(np.array([V[:, 1], V[:, 0]]))\n",
    "\n",
    "    # Step 5. Project data onto the plane and normalize to unit Length\n",
    "    That = np.dot(ODhat, Vec)\n",
    "\n",
    "    # Step 6. Calculate angle of each point w.r.t the first SVD direction\n",
    "    phi = np.arctan2(That[:, 1], That[:, 0])\n",
    "\n",
    "    # Step 7. Find robust extremes (some alpha th and (100 - alpha th) percentiles of the angle\n",
    "    minPhi = np.percentile(phi, alpha)\n",
    "    maxPhi = np.percentile(phi, 100 - alpha)\n",
    "    vMin = np.dot(Vec, np.array([np.cos(minPhi), np.sin(minPhi)]))\n",
    "    vMax = np.dot(Vec, np.array([np.cos(maxPhi), np.sin(maxPhi)]))\n",
    "    if vMin[0] > vMax[0]:\n",
    "        HE = np.array([vMin, vMax])\n",
    "    else:\n",
    "        HE = np.array([vMax, vMin])\n",
    "\n",
    "    HE = np.transpose(HE)\n",
    "\n",
    "    # Step 8. Convert extreme values back to OD space\n",
    "    Y = np.transpose(np.reshape(OD, (h * w, c)))\n",
    "    C = np.linalg.lstsq(HE, Y,rcond=None)\n",
    "    maxC = np.percentile(C[0], 99, axis=1)\n",
    "    C = C[0] / maxC[:, None]\n",
    "    C = C * maxCRef[:, None]\n",
    "    Inorm = Io * np.exp(- np.dot(HERef, C))\n",
    "    Inorm = np.reshape(np.transpose(Inorm), (h, w, c), order='F')\n",
    "    Inorm = np.clip(Inorm, 0, 255)\n",
    "    Inorm = np.array(Inorm, dtype=np.uint8)\n",
    "\n",
    "    return Inorm  # ,H,E\n",
    "\n",
    "\n",
    "def main():\n",
    "\n",
    "    list_img = glob.glob(glob.glob(\"output/*/\")[0]+\"slide/15/*.jpeg\")\n",
    "    for filename in random.choice(list_img,10):\n",
    "        fileout = os.path.splitext(filename)[0]+\"_normal.jpeg\"\n",
    "        img = cv2.imread(filename)\n",
    "        img = img.astype(np.float64)\n",
    "\n",
    "        img = normalize_staining(img)\n",
    "\n",
    "        cv2.imwrite(fileout, img)\n",
    "        img_show = Image.open(fileout)\n",
    "        img_show.show()  \n",
    "\n",
    "\n",
    "if __name__ == '__main__':\n",
    "    main()\n"
   ]
  },
  {
   "cell_type": "code",
   "execution_count": null,
   "metadata": {
    "collapsed": true
   },
   "outputs": [],
   "source": []
  },
  {
   "cell_type": "code",
   "execution_count": null,
   "metadata": {
    "collapsed": true
   },
   "outputs": [],
   "source": []
  }
 ],
 "metadata": {
  "kernelspec": {
   "display_name": "Python 3",
   "language": "python",
   "name": "python3"
  },
  "language_info": {
   "codemirror_mode": {
    "name": "ipython",
    "version": 3
   },
   "file_extension": ".py",
   "mimetype": "text/x-python",
   "name": "python",
   "nbconvert_exporter": "python",
   "pygments_lexer": "ipython3",
   "version": "3.6.4"
  }
 },
 "nbformat": 4,
 "nbformat_minor": 2
}
