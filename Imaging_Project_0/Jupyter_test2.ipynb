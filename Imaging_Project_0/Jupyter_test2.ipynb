{
 "cells": [
  {
   "cell_type": "code",
   "execution_count": 26,
   "metadata": {},
   "outputs": [
    {
     "name": "stdout",
     "output_type": "stream",
     "text": [
      "/usr/local/opt/python/bin/python2.7\n",
      "Collecting Pillow\n",
      "  Downloading Pillow-5.0.0-cp27-cp27m-macosx_10_6_intel.macosx_10_9_intel.macosx_10_9_x86_64.macosx_10_10_intel.macosx_10_10_x86_64.whl (3.5MB)\n",
      "\u001b[K    100% |████████████████████████████████| 3.5MB 248kB/s ta 0:00:01\n",
      "\u001b[?25hInstalling collected packages: Pillow\n",
      "Successfully installed Pillow-5.0.0\n"
     ]
    }
   ],
   "source": [
    "import sys\n",
    "print(sys.executable)\n",
    "!/usr/local/opt/python/bin/python2.7 -m pip install Pillow"
   ]
  },
  {
   "cell_type": "code",
   "execution_count": 31,
   "metadata": {},
   "outputs": [
    {
     "name": "stdout",
     "output_type": "stream",
     "text": [
      "\u001b[33mWarning:\u001b[0m openslide 3.4.1_3 is already installed\n",
      "Collecting openslide-python\n",
      "  Downloading openslide-python-1.1.1.tar.gz (312kB)\n",
      "\u001b[K    100% |████████████████████████████████| 317kB 494kB/s ta 0:00:01\n",
      "\u001b[?25hRequirement already satisfied: Pillow in /usr/local/lib/python2.7/site-packages (from openslide-python)\n",
      "Building wheels for collected packages: openslide-python\n",
      "  Running setup.py bdist_wheel for openslide-python ... \u001b[?25ldone\n",
      "\u001b[?25h  Stored in directory: /Users/arunimasrivastava/Library/Caches/pip/wheels/f5/b6/20/3a29c49b0bf39ecf32e191387ee24510fb66c800b8c93e2143\n",
      "Successfully built openslide-python\n",
      "Installing collected packages: openslide-python\n",
      "Successfully installed openslide-python-1.1.1\n"
     ]
    }
   ],
   "source": [
    "!brew install openslide\n",
    "!/usr/local/opt/python/bin/python2.7 -m pip install openslide-python"
   ]
  },
  {
   "cell_type": "code",
   "execution_count": 2,
   "metadata": {
    "scrolled": true
   },
   "outputs": [
    {
     "name": "stderr",
     "output_type": "stream",
     "text": [
      "Tiling slide: wrote 980/980 tilest/s]\n",
      "Tiling label: wrote 4/4 tiles\n"
     ]
    },
    {
     "name": "stdout",
     "output_type": "stream",
     "text": [
      "Tiling completed on slide in:  <time here>\n",
      "Tiling completed on label in:  <time here>\n"
     ]
    },
    {
     "name": "stderr",
     "output_type": "stream",
     "text": [
      "\r",
      "Tiling macro: wrote 8/8 tiles\n",
      "\r",
      "Tiling thumbnail: wrote 4/4 tiles\n"
     ]
    },
    {
     "name": "stdout",
     "output_type": "stream",
     "text": [
      "Tiling completed on macro in:  <time here>\n",
      "Tiling completed on thumbnail in:  <time here>\n"
     ]
    },
    {
     "name": "stderr",
     "output_type": "stream",
     "text": [
      "100%|██████████| 1/1 [00:44<00:00, 44.44s/it]\n"
     ]
    }
   ],
   "source": [
    "import glob\n",
    "import os\n",
    "\n",
    "from tqdm import tqdm\n",
    "\n",
    "import config as cfg\n",
    "import PIL\n",
    "import cv2\n",
    "from PIL import Image\n",
    "from tiler import WholeSlideTiler\n",
    "\n",
    "\n",
    "def main():\n",
    "    # open input_path, and process each wholeslide image\n",
    "    files = glob.glob(cfg.IMAGE_FOLDER_PATH + '/*.svs')\n",
    "    for slidepath in tqdm(files):\n",
    "        basename = os.path.splitext(os.path.basename(slidepath))[0]\n",
    "        basepath = os.path.join(cfg.OUTPUT_FOLDER_PATH, basename)\n",
    "        WholeSlideTiler(slidepath, basepath, cfg.IMG_FORMAT, cfg.TILE_SIZE, cfg.OVERLAP, cfg.LIMIT_BOUNDS, cfg.ROTATE,\n",
    "                        cfg.QUALITY, cfg.NUM_WORKERS, cfg.ONLY_LAST).run()\n",
    "\n",
    "\n",
    "if __name__ == '__main__':\n",
    "    main()\n"
   ]
  },
  {
   "cell_type": "code",
   "execution_count": null,
   "metadata": {
    "collapsed": true
   },
   "outputs": [],
   "source": []
  },
  {
   "cell_type": "code",
   "execution_count": null,
   "metadata": {
    "collapsed": true
   },
   "outputs": [],
   "source": []
  },
  {
   "cell_type": "code",
   "execution_count": null,
   "metadata": {
    "collapsed": true
   },
   "outputs": [],
   "source": []
  },
  {
   "cell_type": "code",
   "execution_count": null,
   "metadata": {
    "collapsed": true
   },
   "outputs": [],
   "source": []
  }
 ],
 "metadata": {
  "kernelspec": {
   "display_name": "Python 2",
   "language": "python",
   "name": "python2"
  },
  "language_info": {
   "codemirror_mode": {
    "name": "ipython",
    "version": 2
   },
   "file_extension": ".py",
   "mimetype": "text/x-python",
   "name": "python",
   "nbconvert_exporter": "python",
   "pygments_lexer": "ipython2",
   "version": "2.7.14"
  }
 },
 "nbformat": 4,
 "nbformat_minor": 2
}
