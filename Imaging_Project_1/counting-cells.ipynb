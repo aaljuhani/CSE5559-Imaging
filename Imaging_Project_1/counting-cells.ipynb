{
 "cells": [
  {
   "cell_type": "markdown",
   "metadata": {},
   "source": [
    "# Project -1 : Counting Cells by finding area of higher tensity color "
   ]
  },
  {
   "cell_type": "markdown",
   "metadata": {},
   "source": [
    "### Installing required packages"
   ]
  },
  {
   "cell_type": "code",
   "execution_count": 1,
   "metadata": {},
   "outputs": [],
   "source": [
    "#!/usr/local/opt/python/bin/python2.7 -m pip install Pillow"
   ]
  },
  {
   "cell_type": "code",
   "execution_count": 2,
   "metadata": {
    "scrolled": true
   },
   "outputs": [],
   "source": [
    "#!pip2 install tqdm"
   ]
  },
  {
   "cell_type": "code",
   "execution_count": 3,
   "metadata": {},
   "outputs": [],
   "source": [
    "#!brew install openslide\n",
    "#!/usr/local/opt/python/bin/python2.7 -m pip2 install openslide-python"
   ]
  },
  {
   "cell_type": "markdown",
   "metadata": {},
   "source": [
    "## Configuration file"
   ]
  },
  {
   "cell_type": "code",
   "execution_count": 4,
   "metadata": {},
   "outputs": [],
   "source": [
    "import os\n",
    "\n",
    "# directory of the config file\n",
    "CURRENT_DIR = os.path.realpath('.')\n",
    "\n",
    "DEFAULT_FILENAME = 'slide'\n",
    "\n",
    "IMAGE_FOLDER_PATH = CURRENT_DIR+\"/input\"\n",
    "\n",
    "OUTPUT_FOLDER_PATH = CURRENT_DIR+\"/output\"\n",
    "\n",
    "IMG_FORMAT = 'jpeg'\n",
    "\n",
    "TILE_SIZE = 1000\n",
    "\n",
    "OVERLAP = 0\n",
    "\n",
    "LIMIT_BOUNDS = True\n",
    "\n",
    "QUALITY = 100\n",
    "\n",
    "NUM_WORKERS = 12\n",
    "\n",
    "ONLY_LAST = True\n",
    "\n",
    "SAVE_REJECTED = False\n",
    "\n",
    "DONT_REJECT = True\n",
    "\n",
    "# increase this to reject more\n",
    "REJECT_THRESHOLD = 2000\n",
    "\n",
    "ROTATE = False\n",
    "\n",
    "MAX_WHITE_SIZE = (TILE_SIZE*TILE_SIZE)/2\n",
    "\n",
    "def ver_print(string, value):\n",
    "    print(string + \" {0}\".format(value))"
   ]
  },
  {
   "cell_type": "markdown",
   "metadata": {},
   "source": [
    "## Preprocessing and tilling"
   ]
  },
  {
   "cell_type": "code",
   "execution_count": 5,
   "metadata": {},
   "outputs": [
    {
     "name": "stderr",
     "output_type": "stream",
     "text": [
      "Tiling slide: wrote 5796/5796 tiless]\n"
     ]
    },
    {
     "name": "stdout",
     "output_type": "stream",
     "text": [
      "Tiling completed on slide in:  <time here>\n"
     ]
    },
    {
     "name": "stderr",
     "output_type": "stream",
     "text": [
      "\r",
      "Tiling label: wrote 1/1 tiles\n",
      "\r",
      "Tiling macro: wrote 2/2 tiles\n",
      "\r",
      "Tiling thumbnail: wrote 2/2 tiles"
     ]
    },
    {
     "name": "stdout",
     "output_type": "stream",
     "text": [
      "Tiling completed on label in:  <time here>\n",
      "Tiling completed on macro in:  <time here>\n",
      "Tiling completed on thumbnail in:  <time here>\n"
     ]
    },
    {
     "name": "stderr",
     "output_type": "stream",
     "text": [
      "\n",
      "100%|██████████| 1/1 [11:06<00:00, 666.27s/it]\n"
     ]
    }
   ],
   "source": [
    "import glob\n",
    "import os\n",
    "from tqdm import tqdm\n",
    "import PIL\n",
    "import cv2\n",
    "from PIL import Image\n",
    "from tiler import WholeSlideTiler\n",
    "\n",
    "def main():\n",
    "    files = glob.glob(IMAGE_FOLDER_PATH + '/*.svs')\n",
    "    for slidepath in tqdm(files):\n",
    "        basename = os.path.splitext(os.path.basename(slidepath))[0]\n",
    "        basepath = os.path.join(OUTPUT_FOLDER_PATH, basename)\n",
    "        WholeSlideTiler(slidepath, basepath, IMG_FORMAT, TILE_SIZE, OVERLAP, LIMIT_BOUNDS, ROTATE,\n",
    "                        QUALITY, NUM_WORKERS, ONLY_LAST).run()\n",
    "\n",
    "\n",
    "if __name__ == '__main__':\n",
    "    main()\n"
   ]
  },
  {
   "cell_type": "markdown",
   "metadata": {},
   "source": [
    "## Normalizing"
   ]
  },
  {
   "cell_type": "code",
   "execution_count": 6,
   "metadata": {},
   "outputs": [],
   "source": [
    "from __future__ import division\n",
    "\n",
    "import glob\n",
    "\n",
    "import cv2\n",
    "import numpy as np\n",
    "from tqdm import tqdm\n",
    "from PIL import Image \n",
    "from numpy import random\n",
    "import os\n",
    "\n",
    "\n",
    "def safe_ln(x, minval=0.0000000001):\n",
    "    return np.log(x.clip(min=minval))\n",
    "\n",
    "\n",
    "def normalize_staining(I=None):\n",
    "    I = I.astype(np.float64)\n",
    "    Io = 240\n",
    "    beta = 0.15\n",
    "    alpha = 1\n",
    "    HERef = np.array([[0.5626, 0.2159], [0.7201, 0.8012], [0.4062, 0.5581]])\n",
    "    maxCRef = np.array([1.9705, 1.0308])\n",
    "\n",
    "    (h, w, c) = np.shape(I)\n",
    "    I = np.reshape(I, (h * w, c), order='F')\n",
    "\n",
    "    # Step 1. Convert RGB to OD.\n",
    "    OD = - np.log((I + 1) / Io) # optical density where each channel in the image is normalized to values between [0, 1]\n",
    "\n",
    "    # Step 2. Remove data with OD intensity less than beta\n",
    "    ODhat = (OD[(np.logical_not((OD < beta).any(axis=1))), :])\n",
    "\n",
    "    # Step 3. Calculate SVD on the OD tuples\n",
    "    cov = np.cov(ODhat, rowvar=False)\n",
    "    (W, V) = np.linalg.eig(cov)\n",
    "\n",
    "    # Step 4. create plane from the SVD directions\n",
    "    # corresponding to the two largest singular values\n",
    "    Vec = - np.transpose(np.array([V[:, 1], V[:, 0]]))\n",
    "\n",
    "    # Step 5. Project data onto the plane and normalize to unit Length\n",
    "    That = np.dot(ODhat, Vec)\n",
    "\n",
    "    # Step 6. Calculate angle of each point w.r.t the first SVD direction\n",
    "    phi = np.arctan2(That[:, 1], That[:, 0])\n",
    "\n",
    "    # Step 7. Find robust extremes (some alpha th and (100 - alpha th) percentiles of the angle\n",
    "    minPhi = np.percentile(phi, alpha)\n",
    "    maxPhi = np.percentile(phi, 100 - alpha)\n",
    "    vMin = np.dot(Vec, np.array([np.cos(minPhi), np.sin(minPhi)]))\n",
    "    vMax = np.dot(Vec, np.array([np.cos(maxPhi), np.sin(maxPhi)]))\n",
    "    if vMin[0] > vMax[0]:\n",
    "        HE = np.array([vMin, vMax])\n",
    "    else:\n",
    "        HE = np.array([vMax, vMin])\n",
    "\n",
    "    HE = np.transpose(HE)\n",
    "\n",
    "    # Step 8. Convert extreme values back to OD space\n",
    "    Y = np.transpose(np.reshape(OD, (h * w, c)))\n",
    "    C = np.linalg.lstsq(HE, Y,rcond=None)\n",
    "    maxC = np.percentile(C[0], 99, axis=1)\n",
    "    C = C[0] / maxC[:, None]\n",
    "    C = C * maxCRef[:, None]\n",
    "    Inorm = Io * np.exp(- np.dot(HERef, C))\n",
    "    Inorm = np.reshape(np.transpose(Inorm), (h, w, c), order='F')\n",
    "    Inorm = np.clip(Inorm, 0, 255)\n",
    "    Inorm = np.array(Inorm, dtype=np.uint8)\n",
    "\n",
    "    return Inorm  # ,H,E\n"
   ]
  },
  {
   "cell_type": "markdown",
   "metadata": {},
   "source": [
    "## Selecting input files"
   ]
  },
  {
   "cell_type": "code",
   "execution_count": 7,
   "metadata": {},
   "outputs": [
    {
     "name": "stderr",
     "output_type": "stream",
     "text": [
      "/usr/local/lib/python3.6/site-packages/numpy/lib/function_base.py:1128: RuntimeWarning: Mean of empty slice.\n",
      "  avg = a.mean(axis)\n",
      "/usr/local/lib/python3.6/site-packages/numpy/core/_methods.py:73: RuntimeWarning: invalid value encountered in true_divide\n",
      "  ret, rcount, out=ret, casting='unsafe', subok=False)\n",
      "/usr/local/lib/python3.6/site-packages/ipykernel_launcher.py:35: RuntimeWarning: Degrees of freedom <= 0 for slice\n",
      "/usr/local/lib/python3.6/site-packages/numpy/lib/function_base.py:3109: RuntimeWarning: divide by zero encountered in double_scalars\n",
      "  c *= 1. / np.float64(fact)\n",
      "/usr/local/lib/python3.6/site-packages/numpy/lib/function_base.py:3109: RuntimeWarning: invalid value encountered in multiply\n",
      "  c *= 1. / np.float64(fact)\n"
     ]
    },
    {
     "ename": "LinAlgError",
     "evalue": "Array must not contain infs or NaNs",
     "output_type": "error",
     "traceback": [
      "\u001b[0;31m---------------------------------------------------------------------------\u001b[0m",
      "\u001b[0;31mLinAlgError\u001b[0m                               Traceback (most recent call last)",
      "\u001b[0;32m<ipython-input-7-b1eb0845e450>\u001b[0m in \u001b[0;36m<module>\u001b[0;34m()\u001b[0m\n\u001b[1;32m     13\u001b[0m         \u001b[0mimg_show\u001b[0m\u001b[0;34m.\u001b[0m\u001b[0mshow\u001b[0m\u001b[0;34m(\u001b[0m\u001b[0;34m)\u001b[0m\u001b[0;34m\u001b[0m\u001b[0m\n\u001b[1;32m     14\u001b[0m \u001b[0;34m\u001b[0m\u001b[0m\n\u001b[0;32m---> 15\u001b[0;31m \u001b[0mmain\u001b[0m\u001b[0;34m(\u001b[0m\u001b[0;34m)\u001b[0m\u001b[0;34m\u001b[0m\u001b[0m\n\u001b[0m",
      "\u001b[0;32m<ipython-input-7-b1eb0845e450>\u001b[0m in \u001b[0;36mmain\u001b[0;34m()\u001b[0m\n\u001b[1;32m      7\u001b[0m         \u001b[0mimg\u001b[0m \u001b[0;34m=\u001b[0m \u001b[0mimg\u001b[0m\u001b[0;34m.\u001b[0m\u001b[0mastype\u001b[0m\u001b[0;34m(\u001b[0m\u001b[0mnp\u001b[0m\u001b[0;34m.\u001b[0m\u001b[0mfloat64\u001b[0m\u001b[0;34m)\u001b[0m\u001b[0;34m\u001b[0m\u001b[0m\n\u001b[1;32m      8\u001b[0m \u001b[0;34m\u001b[0m\u001b[0m\n\u001b[0;32m----> 9\u001b[0;31m         \u001b[0mimg\u001b[0m \u001b[0;34m=\u001b[0m \u001b[0mnormalize_staining\u001b[0m\u001b[0;34m(\u001b[0m\u001b[0mimg\u001b[0m\u001b[0;34m)\u001b[0m\u001b[0;34m\u001b[0m\u001b[0m\n\u001b[0m\u001b[1;32m     10\u001b[0m \u001b[0;34m\u001b[0m\u001b[0m\n\u001b[1;32m     11\u001b[0m         \u001b[0mcv2\u001b[0m\u001b[0;34m.\u001b[0m\u001b[0mimwrite\u001b[0m\u001b[0;34m(\u001b[0m\u001b[0mfileout\u001b[0m\u001b[0;34m,\u001b[0m \u001b[0mimg\u001b[0m\u001b[0;34m)\u001b[0m\u001b[0;34m\u001b[0m\u001b[0m\n",
      "\u001b[0;32m<ipython-input-6-be2886ed96db>\u001b[0m in \u001b[0;36mnormalize_staining\u001b[0;34m(I)\u001b[0m\n\u001b[1;32m     34\u001b[0m     \u001b[0;31m# Step 3. Calculate SVD on the OD tuples\u001b[0m\u001b[0;34m\u001b[0m\u001b[0;34m\u001b[0m\u001b[0m\n\u001b[1;32m     35\u001b[0m     \u001b[0mcov\u001b[0m \u001b[0;34m=\u001b[0m \u001b[0mnp\u001b[0m\u001b[0;34m.\u001b[0m\u001b[0mcov\u001b[0m\u001b[0;34m(\u001b[0m\u001b[0mODhat\u001b[0m\u001b[0;34m,\u001b[0m \u001b[0mrowvar\u001b[0m\u001b[0;34m=\u001b[0m\u001b[0;32mFalse\u001b[0m\u001b[0;34m)\u001b[0m\u001b[0;34m\u001b[0m\u001b[0m\n\u001b[0;32m---> 36\u001b[0;31m     \u001b[0;34m(\u001b[0m\u001b[0mW\u001b[0m\u001b[0;34m,\u001b[0m \u001b[0mV\u001b[0m\u001b[0;34m)\u001b[0m \u001b[0;34m=\u001b[0m \u001b[0mnp\u001b[0m\u001b[0;34m.\u001b[0m\u001b[0mlinalg\u001b[0m\u001b[0;34m.\u001b[0m\u001b[0meig\u001b[0m\u001b[0;34m(\u001b[0m\u001b[0mcov\u001b[0m\u001b[0;34m)\u001b[0m\u001b[0;34m\u001b[0m\u001b[0m\n\u001b[0m\u001b[1;32m     37\u001b[0m \u001b[0;34m\u001b[0m\u001b[0m\n\u001b[1;32m     38\u001b[0m     \u001b[0;31m# Step 4. create plane from the SVD directions\u001b[0m\u001b[0;34m\u001b[0m\u001b[0;34m\u001b[0m\u001b[0m\n",
      "\u001b[0;32m/usr/local/lib/python3.6/site-packages/numpy/linalg/linalg.py\u001b[0m in \u001b[0;36meig\u001b[0;34m(a)\u001b[0m\n\u001b[1;32m   1141\u001b[0m     \u001b[0m_assertRankAtLeast2\u001b[0m\u001b[0;34m(\u001b[0m\u001b[0ma\u001b[0m\u001b[0;34m)\u001b[0m\u001b[0;34m\u001b[0m\u001b[0m\n\u001b[1;32m   1142\u001b[0m     \u001b[0m_assertNdSquareness\u001b[0m\u001b[0;34m(\u001b[0m\u001b[0ma\u001b[0m\u001b[0;34m)\u001b[0m\u001b[0;34m\u001b[0m\u001b[0m\n\u001b[0;32m-> 1143\u001b[0;31m     \u001b[0m_assertFinite\u001b[0m\u001b[0;34m(\u001b[0m\u001b[0ma\u001b[0m\u001b[0;34m)\u001b[0m\u001b[0;34m\u001b[0m\u001b[0m\n\u001b[0m\u001b[1;32m   1144\u001b[0m     \u001b[0mt\u001b[0m\u001b[0;34m,\u001b[0m \u001b[0mresult_t\u001b[0m \u001b[0;34m=\u001b[0m \u001b[0m_commonType\u001b[0m\u001b[0;34m(\u001b[0m\u001b[0ma\u001b[0m\u001b[0;34m)\u001b[0m\u001b[0;34m\u001b[0m\u001b[0m\n\u001b[1;32m   1145\u001b[0m \u001b[0;34m\u001b[0m\u001b[0m\n",
      "\u001b[0;32m/usr/local/lib/python3.6/site-packages/numpy/linalg/linalg.py\u001b[0m in \u001b[0;36m_assertFinite\u001b[0;34m(*arrays)\u001b[0m\n\u001b[1;32m    214\u001b[0m     \u001b[0;32mfor\u001b[0m \u001b[0ma\u001b[0m \u001b[0;32min\u001b[0m \u001b[0marrays\u001b[0m\u001b[0;34m:\u001b[0m\u001b[0;34m\u001b[0m\u001b[0m\n\u001b[1;32m    215\u001b[0m         \u001b[0;32mif\u001b[0m \u001b[0;32mnot\u001b[0m \u001b[0;34m(\u001b[0m\u001b[0misfinite\u001b[0m\u001b[0;34m(\u001b[0m\u001b[0ma\u001b[0m\u001b[0;34m)\u001b[0m\u001b[0;34m.\u001b[0m\u001b[0mall\u001b[0m\u001b[0;34m(\u001b[0m\u001b[0;34m)\u001b[0m\u001b[0;34m)\u001b[0m\u001b[0;34m:\u001b[0m\u001b[0;34m\u001b[0m\u001b[0m\n\u001b[0;32m--> 216\u001b[0;31m             \u001b[0;32mraise\u001b[0m \u001b[0mLinAlgError\u001b[0m\u001b[0;34m(\u001b[0m\u001b[0;34m\"Array must not contain infs or NaNs\"\u001b[0m\u001b[0;34m)\u001b[0m\u001b[0;34m\u001b[0m\u001b[0m\n\u001b[0m\u001b[1;32m    217\u001b[0m \u001b[0;34m\u001b[0m\u001b[0m\n\u001b[1;32m    218\u001b[0m \u001b[0;32mdef\u001b[0m \u001b[0m_isEmpty2d\u001b[0m\u001b[0;34m(\u001b[0m\u001b[0marr\u001b[0m\u001b[0;34m)\u001b[0m\u001b[0;34m:\u001b[0m\u001b[0;34m\u001b[0m\u001b[0m\n",
      "\u001b[0;31mLinAlgError\u001b[0m: Array must not contain infs or NaNs"
     ]
    }
   ],
   "source": [
    "def main():\n",
    "\n",
    "    list_img = glob.glob(glob.glob(\"output/*/\")[0]+\"slide/18/*.jpeg\")\n",
    "    for filename in random.choice(list_img,10):\n",
    "        fileout = os.path.splitext(filename)[0]+\"_normal.jpeg\"\n",
    "        img = cv2.imread(filename)\n",
    "        img = img.astype(np.float64)\n",
    "\n",
    "        img = normalize_staining(img)\n",
    "\n",
    "        cv2.imwrite(fileout, img)\n",
    "        img_show = Image.open(fileout)\n",
    "        img_show.show()  \n",
    "        \n",
    "main()\n"
   ]
  },
  {
   "cell_type": "markdown",
   "metadata": {},
   "source": [
    "## Counting colors"
   ]
  },
  {
   "cell_type": "code",
   "execution_count": null,
   "metadata": {},
   "outputs": [],
   "source": [
    "from PIL import Image , ImageStat\n",
    "\n",
    "\n",
    "im = Image.open(\"112_16_1.jpeg\").convert('L')\n",
    "stat = ImageStat.Stat(im)\n",
    "print \"Read RMS brightness of image: \"\n",
    "print stat.extrema\n",
    "print stat.count\n",
    "print stat.sum\n",
    "\n",
    "\n",
    "black = 0\n",
    "red = 0\n",
    "\n",
    "for pixel in im.getdata():\n",
    "    if pixel == (0, 0, 0): # if your image is RGB (if RGBA, (0, 0, 0, 255) or so\n",
    "        black += 1\n",
    "    else:\n",
    "        red += 1\n",
    "print('black=' + str(black)+', red='+str(red))"
   ]
  }
 ],
 "metadata": {
  "kernelspec": {
   "display_name": "Python 3",
   "language": "python",
   "name": "python3"
  },
  "language_info": {
   "codemirror_mode": {
    "name": "ipython",
    "version": 3
   },
   "file_extension": ".py",
   "mimetype": "text/x-python",
   "name": "python",
   "nbconvert_exporter": "python",
   "pygments_lexer": "ipython3",
   "version": "3.6.4"
  }
 },
 "nbformat": 4,
 "nbformat_minor": 2
}
