{
 "cells": [
  {
   "cell_type": "markdown",
   "metadata": {},
   "source": [
    "# Project -1 : Counting Cells by finding area of higher tensity color "
   ]
  },
  {
   "cell_type": "markdown",
   "metadata": {},
   "source": [
    "### Installing required packages"
   ]
  },
  {
   "cell_type": "code",
   "execution_count": 1,
   "metadata": {},
   "outputs": [],
   "source": [
    "#!/usr/local/opt/python/bin/python2.7 -m pip install Pillow"
   ]
  },
  {
   "cell_type": "code",
   "execution_count": 2,
   "metadata": {
    "scrolled": true
   },
   "outputs": [],
   "source": [
    "#!pip2 install tqdm"
   ]
  },
  {
   "cell_type": "code",
   "execution_count": 68,
   "metadata": {
    "scrolled": true
   },
   "outputs": [
    {
     "name": "stdout",
     "output_type": "stream",
     "text": [
      "Requirement already satisfied: scikit-image in /usr/local/lib/python3.6/site-packages\n",
      "Requirement already satisfied: scipy>=0.17.0 in /usr/local/lib/python3.6/site-packages (from scikit-image)\n",
      "Requirement already satisfied: six>=1.7.3 in /usr/local/lib/python3.6/site-packages (from scikit-image)\n",
      "Requirement already satisfied: networkx>=1.8 in /usr/local/lib/python3.6/site-packages (from scikit-image)\n",
      "Requirement already satisfied: matplotlib>=1.3.1 in /usr/local/lib/python3.6/site-packages (from scikit-image)\n",
      "Requirement already satisfied: pillow>=2.1.0 in /usr/local/lib/python3.6/site-packages (from scikit-image)\n",
      "Requirement already satisfied: PyWavelets>=0.4.0 in /usr/local/lib/python3.6/site-packages (from scikit-image)\n",
      "Requirement already satisfied: numpy>=1.8.2 in /usr/local/lib/python3.6/site-packages (from scipy>=0.17.0->scikit-image)\n",
      "Requirement already satisfied: decorator>=4.1.0 in /usr/local/lib/python3.6/site-packages (from networkx>=1.8->scikit-image)\n",
      "Requirement already satisfied: cycler>=0.10 in /usr/local/lib/python3.6/site-packages (from matplotlib>=1.3.1->scikit-image)\n",
      "Requirement already satisfied: python-dateutil>=2.1 in /usr/local/lib/python3.6/site-packages (from matplotlib>=1.3.1->scikit-image)\n",
      "Requirement already satisfied: pyparsing!=2.0.4,!=2.1.2,!=2.1.6,>=2.0.1 in /usr/local/lib/python3.6/site-packages (from matplotlib>=1.3.1->scikit-image)\n",
      "Requirement already satisfied: pytz in /usr/local/lib/python3.6/site-packages (from matplotlib>=1.3.1->scikit-image)\n"
     ]
    }
   ],
   "source": [
    "#!pip3 install scikit-image"
   ]
  },
  {
   "cell_type": "code",
   "execution_count": 20,
   "metadata": {
    "scrolled": true
   },
   "outputs": [
    {
     "name": "stdout",
     "output_type": "stream",
     "text": [
      "Collecting scikit-learn\n",
      "  Using cached scikit_learn-0.19.1-cp36-cp36m-macosx_10_6_intel.macosx_10_9_intel.macosx_10_9_x86_64.macosx_10_10_intel.macosx_10_10_x86_64.whl\n",
      "Installing collected packages: scikit-learn\n",
      "Successfully installed scikit-learn-0.19.1\n"
     ]
    }
   ],
   "source": [
    "#!pip3 install scikit-learn"
   ]
  },
  {
   "cell_type": "code",
   "execution_count": 22,
   "metadata": {
    "scrolled": true
   },
   "outputs": [
    {
     "name": "stdout",
     "output_type": "stream",
     "text": [
      "Collecting scipy\n",
      "  Using cached scipy-1.0.0-cp36-cp36m-macosx_10_6_intel.macosx_10_9_intel.macosx_10_9_x86_64.macosx_10_10_intel.macosx_10_10_x86_64.whl\n",
      "Requirement already satisfied: numpy>=1.8.2 in /usr/local/lib/python3.6/site-packages (from scipy)\n",
      "Installing collected packages: scipy\n",
      "Successfully installed scipy-1.0.0\n"
     ]
    }
   ],
   "source": [
    "#!pip3 install scipy"
   ]
  },
  {
   "cell_type": "code",
   "execution_count": 19,
   "metadata": {},
   "outputs": [
    {
     "name": "stdout",
     "output_type": "stream",
     "text": [
      "/usr/local/opt/python3/bin/python3.6\n"
     ]
    }
   ],
   "source": [
    "#import sys\n",
    "#print(sys.executable)"
   ]
  },
  {
   "cell_type": "code",
   "execution_count": 17,
   "metadata": {},
   "outputs": [
    {
     "name": "stdout",
     "output_type": "stream",
     "text": [
      "Requirement already satisfied: openslide-python in /usr/local/lib/python2.7/site-packages\r\n",
      "Requirement already satisfied: Pillow in /usr/local/lib/python2.7/site-packages (from openslide-python)\r\n"
     ]
    }
   ],
   "source": [
    "#!brew install openslide\n",
    "#!/usr/local/opt/python/bin/python2.7 -m pip install openslide-python"
   ]
  },
  {
   "cell_type": "markdown",
   "metadata": {},
   "source": [
    "## Configuration file"
   ]
  },
  {
   "cell_type": "code",
   "execution_count": 4,
   "metadata": {},
   "outputs": [],
   "source": [
    "import os\n",
    "\n",
    "# directory of the config file\n",
    "CURRENT_DIR = os.path.realpath('.')\n",
    "\n",
    "DEFAULT_FILENAME = 'slide'\n",
    "\n",
    "IMAGE_FOLDER_PATH = CURRENT_DIR+\"/input\"\n",
    "\n",
    "OUTPUT_FOLDER_PATH = CURRENT_DIR+\"/output\"\n",
    "\n",
    "IMG_FORMAT = 'jpeg'\n",
    "\n",
    "TILE_SIZE = 1000\n",
    "\n",
    "OVERLAP = 0\n",
    "\n",
    "LIMIT_BOUNDS = True\n",
    "\n",
    "QUALITY = 100\n",
    "\n",
    "NUM_WORKERS = 12\n",
    "\n",
    "ONLY_LAST = True\n",
    "\n",
    "SAVE_REJECTED = False\n",
    "\n",
    "DONT_REJECT = True\n",
    "\n",
    "# increase this to reject more\n",
    "REJECT_THRESHOLD = 200\n",
    "\n",
    "ROTATE = False\n",
    "\n",
    "MAX_WHITE_SIZE = (TILE_SIZE*TILE_SIZE)/2\n",
    "\n",
    "def ver_print(string, value):\n",
    "    print(string + \" {0}\".format(value))"
   ]
  },
  {
   "cell_type": "markdown",
   "metadata": {},
   "source": [
    "## Preprocessing and tilling"
   ]
  },
  {
   "cell_type": "code",
   "execution_count": 5,
   "metadata": {},
   "outputs": [
    {
     "name": "stderr",
     "output_type": "stream",
     "text": [
      "Tiling slide: wrote 5796/5796 tiless]\n"
     ]
    },
    {
     "name": "stdout",
     "output_type": "stream",
     "text": [
      "Tiling completed on slide in:  <time here>\n",
      "Tiling completed on label in:  <time here>\n"
     ]
    },
    {
     "name": "stderr",
     "output_type": "stream",
     "text": [
      "Tiling label: wrote 1/1 tiles\n",
      "Tiling macro: wrote 2/2 tiles\n",
      "Tiling thumbnail: wrote 2/2 tiles\n",
      "100%|██████████| 1/1 [05:41<00:00, 341.79s/it]"
     ]
    },
    {
     "name": "stdout",
     "output_type": "stream",
     "text": [
      "Tiling completed on macro in:  <time here>\n",
      "Tiling completed on thumbnail in:  <time here>\n"
     ]
    },
    {
     "name": "stderr",
     "output_type": "stream",
     "text": [
      "\n"
     ]
    }
   ],
   "source": [
    "import glob\n",
    "import os\n",
    "from tqdm import tqdm\n",
    "import PIL\n",
    "import cv2\n",
    "from PIL import Image\n",
    "from tiler import WholeSlideTiler\n",
    "\n",
    "def main():\n",
    "    files = glob.glob(IMAGE_FOLDER_PATH + '/*.svs')\n",
    "    for slidepath in tqdm(files):\n",
    "        basename = os.path.splitext(os.path.basename(slidepath))[0]\n",
    "        basepath = os.path.join(OUTPUT_FOLDER_PATH, basename)\n",
    "        WholeSlideTiler(slidepath, basepath, IMG_FORMAT, TILE_SIZE, OVERLAP, LIMIT_BOUNDS, ROTATE,\n",
    "                        QUALITY, NUM_WORKERS, ONLY_LAST).run()\n",
    "\n",
    "\n",
    "if __name__ == '__main__':\n",
    "    main()\n"
   ]
  },
  {
   "cell_type": "markdown",
   "metadata": {},
   "source": [
    "## Normalizing"
   ]
  },
  {
   "cell_type": "code",
   "execution_count": 2,
   "metadata": {},
   "outputs": [],
   "source": [
    "from __future__ import division\n",
    "\n",
    "import glob\n",
    "\n",
    "import cv2\n",
    "import numpy as np\n",
    "from tqdm import tqdm\n",
    "from PIL import Image \n",
    "from numpy import random\n",
    "import os\n",
    "\n",
    "\n",
    "def safe_ln(x, minval=0.0000000001):\n",
    "    return np.log(x.clip(min=minval))\n",
    "\n",
    "\n",
    "def normalize_staining(I=None):\n",
    "    I = I.astype(np.float64)\n",
    "    Io = 240\n",
    "    beta = 0.15\n",
    "    alpha = 1\n",
    "    HERef = np.array([[0.5626, 0.2159], [0.7201, 0.8012], [0.4062, 0.5581]])\n",
    "    maxCRef = np.array([1.9705, 1.0308])\n",
    "\n",
    "    (h, w, c) = np.shape(I)\n",
    "    I = np.reshape(I, (h * w, c), order='F')\n",
    "\n",
    "    # Step 1. Convert RGB to OD.\n",
    "    OD = - np.log((I + 1) / Io) # optical density where each channel in the image is normalized to values between [0, 1]\n",
    "\n",
    "    # Step 2. Remove data with OD intensity less than beta\n",
    "    ODhat = (OD[(np.logical_not((OD < beta).any(axis=1))), :])\n",
    "\n",
    "    # Step 3. Calculate SVD on the OD tuples\n",
    "    cov = np.cov(ODhat, rowvar=False)\n",
    "    (W, V) = np.linalg.eig(cov)\n",
    "\n",
    "    # Step 4. create plane from the SVD directions\n",
    "    # corresponding to the two largest singular values\n",
    "    Vec = - np.transpose(np.array([V[:, 1], V[:, 0]]))\n",
    "\n",
    "    # Step 5. Project data onto the plane and normalize to unit Length\n",
    "    That = np.dot(ODhat, Vec)\n",
    "\n",
    "    # Step 6. Calculate angle of each point w.r.t the first SVD direction\n",
    "    phi = np.arctan2(That[:, 1], That[:, 0])\n",
    "\n",
    "    # Step 7. Find robust extremes (some alpha th and (100 - alpha th) percentiles of the angle\n",
    "    minPhi = np.percentile(phi, alpha)\n",
    "    maxPhi = np.percentile(phi, 100 - alpha)\n",
    "    vMin = np.dot(Vec, np.array([np.cos(minPhi), np.sin(minPhi)]))\n",
    "    vMax = np.dot(Vec, np.array([np.cos(maxPhi), np.sin(maxPhi)]))\n",
    "    if vMin[0] > vMax[0]:\n",
    "        HE = np.array([vMin, vMax])\n",
    "    else:\n",
    "        HE = np.array([vMax, vMin])\n",
    "\n",
    "    HE = np.transpose(HE)\n",
    "\n",
    "    # Step 8. Convert extreme values back to OD space\n",
    "    Y = np.transpose(np.reshape(OD, (h * w, c)))\n",
    "    C = np.linalg.lstsq(HE, Y,rcond=None)\n",
    "    maxC = np.percentile(C[0], 99, axis=1)\n",
    "    C = C[0] / maxC[:, None]\n",
    "    C = C * maxCRef[:, None]\n",
    "    Inorm = Io * np.exp(- np.dot(HERef, C))\n",
    "    Inorm = np.reshape(np.transpose(Inorm), (h, w, c), order='F')\n",
    "    Inorm = np.clip(Inorm, 0, 255)\n",
    "    Inorm = np.array(Inorm, dtype=np.uint8)\n",
    "\n",
    "    return Inorm  # ,H,E\n"
   ]
  },
  {
   "cell_type": "markdown",
   "metadata": {},
   "source": [
    "## Selecting random 10 tiles for Normalization"
   ]
  },
  {
   "cell_type": "code",
   "execution_count": 3,
   "metadata": {},
   "outputs": [],
   "source": [
    "def main():\n",
    "\n",
    "    list_img = glob.glob(glob.glob(\"output/*/\")[0]+\"slide/18/*.jpeg\")\n",
    "    for filename in random.choice(list_img,10):\n",
    "        fileout = os.path.splitext(filename)[0]+\"_normal.jpeg\"\n",
    "        img = cv2.imread(filename)\n",
    "        img = img.astype(np.float64)\n",
    "\n",
    "        img = normalize_staining(img)\n",
    "\n",
    "        cv2.imwrite(fileout, img)\n",
    "        img_show = Image.open(fileout)\n",
    "        img_show.show()  \n",
    "        \n",
    "main()\n"
   ]
  },
  {
   "cell_type": "markdown",
   "metadata": {},
   "source": [
    "# Finding the main colors in tiles"
   ]
  },
  {
   "cell_type": "markdown",
   "metadata": {},
   "source": [
    "## Loading and Resizing tiles"
   ]
  },
  {
   "cell_type": "code",
   "execution_count": 10,
   "metadata": {},
   "outputs": [],
   "source": [
    "# Load the image\n",
    "from skimage import io, color\n",
    "import cv2\n",
    "import numpy as np\n",
    "\n",
    "image = cv2.imread(\"19_15_1.jpeg\")\n",
    "#convert color space from RGB to LAB\n",
    "image = cv2.cvtColor(image, cv2.COLOR_RGB2LAB)\n",
    " \n",
    "# Resize it\n",
    "h, w, _ = image.shape\n",
    "w_new = int(100 * w / max(w, h) )\n",
    "h_new = int(100 * h / max(w, h) )\n",
    " \n",
    "image = cv2.resize(image, (w_new, h_new));\n",
    "\n",
    "# This line is to set L values to 0 and keep A and B\n",
    "image[:,:,0]= 0\n",
    "#print(image)\n",
    "\n",
    "\n",
    "#cv2.imshow('image',image)\n",
    "#cv2.waitKey(0)\n",
    "#print(image[0][0])\n"
   ]
  },
  {
   "cell_type": "markdown",
   "metadata": {},
   "source": [
    "## Step 1: Clustering colours with K-Means"
   ]
  },
  {
   "cell_type": "code",
   "execution_count": 11,
   "metadata": {},
   "outputs": [
    {
     "data": {
      "text/plain": [
       "KMeans(algorithm='auto', copy_x=True, init='k-means++', max_iter=300,\n",
       "    n_clusters=3, n_init=10, n_jobs=1, precompute_distances='auto',\n",
       "    random_state=None, tol=0.0001, verbose=0)"
      ]
     },
     "execution_count": 11,
     "metadata": {},
     "output_type": "execute_result"
    }
   ],
   "source": [
    "from sklearn.cluster import KMeans\n",
    " \n",
    "# Reshape the image to be a list of pixels\n",
    "image_array = image.reshape((image.shape[0] * image.shape[1], 3))\n",
    " \n",
    "# Clusters the pixels\n",
    "clt = KMeans(n_clusters = 3)\n",
    "clt.fit(image_array)"
   ]
  },
  {
   "cell_type": "markdown",
   "metadata": {},
   "source": [
    "## Step 2: Sort clusters by size"
   ]
  },
  {
   "cell_type": "code",
   "execution_count": 12,
   "metadata": {},
   "outputs": [
    {
     "name": "stdout",
     "output_type": "stream",
     "text": [
      "<bound method KMeans.fit of KMeans(algorithm='auto', copy_x=True, init='k-means++', max_iter=300,\n",
      "    n_clusters=3, n_init=10, n_jobs=1, precompute_distances='auto',\n",
      "    random_state=None, tol=0.0001, verbose=0)>\n",
      "[[  0.         131.48542459 126.44011407]\n",
      " [  0.         161.90214425  91.36179337]\n",
      " [  0.         152.10119187 115.87660668]]\n",
      "[0.3156 0.2565 0.4279]\n"
     ]
    }
   ],
   "source": [
    "# By Adrian Rosebrock\n",
    "import numpy as np\n",
    "import cv2\n",
    " \n",
    "def centroid_histogram(clt):\n",
    " # grab the number of different clusters and create a histogram\n",
    " # based on the number of pixels assigned to each cluster\n",
    " numLabels = np.arange(0, len(np.unique(clt.labels_)) + 1)\n",
    " (hist, _) = np.histogram(clt.labels_, bins = numLabels)\n",
    " \n",
    " # normalize the histogram, such that it sums to one\n",
    " hist = hist.astype(\"float\")\n",
    " hist /= hist.sum()\n",
    " \n",
    " # return the histogram\n",
    " return hist\n",
    "\n",
    "print(clt.fit)\n",
    "print(clt.cluster_centers_)\n",
    "# Finds how many pixels are in each cluster\n",
    "hist = centroid_histogram(clt)\n",
    "\n",
    "print(hist)\n",
    " \n",
    "# Sort the clusters according to how many pixel they have\n",
    "zipped = zip (hist, clt.cluster_centers_)\n",
    "hist, clt.cluster_centers = zip(*zipped)\n",
    "   \n",
    " \n"
   ]
  },
  {
   "cell_type": "markdown",
   "metadata": {},
   "source": [
    "## Step 3: Clustering evaluation"
   ]
  },
  {
   "cell_type": "code",
   "execution_count": 13,
   "metadata": {},
   "outputs": [
    {
     "name": "stdout",
     "output_type": "stream",
     "text": [
      "2\n"
     ]
    }
   ],
   "source": [
    "from sklearn import metrics\n",
    "from sklearn.metrics import silhouette_samples, silhouette_score\n",
    "\n",
    "bestSilhouette = -1\n",
    "bestClusters = 0;\n",
    "\n",
    "for clusters in range(2, 6):\n",
    "\t# Cluster colours\n",
    "\tclt = KMeans(n_clusters = clusters)\n",
    "\tclt.fit(image_array)\n",
    "\n",
    "\t# Validate clustering result\n",
    "\tsilhouette = metrics.silhouette_score(image_array, clt.labels_, metric='euclidean')\n",
    "\n",
    "\t# Find the best one\n",
    "\tif silhouette > bestSilhouette:\n",
    "\t\tbestSilhouette = silhouette;\n",
    "\t\tbestClusters = clusters;\n",
    "        \n",
    "print(bestClusters)"
   ]
  },
  {
   "cell_type": "markdown",
   "metadata": {},
   "source": [
    "## Counting colors"
   ]
  },
  {
   "cell_type": "code",
   "execution_count": 8,
   "metadata": {},
   "outputs": [
    {
     "ename": "SyntaxError",
     "evalue": "Missing parentheses in call to 'print'. Did you mean print(\"Read RMS brightness of image: \")? (<ipython-input-8-2d4c635cd774>, line 6)",
     "output_type": "error",
     "traceback": [
      "\u001b[0;36m  File \u001b[0;32m\"<ipython-input-8-2d4c635cd774>\"\u001b[0;36m, line \u001b[0;32m6\u001b[0m\n\u001b[0;31m    print \"Read RMS brightness of image: \"\u001b[0m\n\u001b[0m                                         ^\u001b[0m\n\u001b[0;31mSyntaxError\u001b[0m\u001b[0;31m:\u001b[0m Missing parentheses in call to 'print'. Did you mean print(\"Read RMS brightness of image: \")?\n"
     ]
    }
   ],
   "source": [
    "from PIL import Image , ImageStat\n",
    "\n",
    "\n",
    "im = Image.open(\"112_16_1.jpeg\").convert('L')\n",
    "stat = ImageStat.Stat(im)\n",
    "print \"Read RMS brightness of image: \"\n",
    "print stat.extrema\n",
    "print stat.count\n",
    "print stat.sum\n",
    "\n",
    "\n",
    "black = 0\n",
    "red = 0\n",
    "\n",
    "for pixel in im.getdata():\n",
    "    if pixel == (0, 0, 0): # if your image is RGB (if RGBA, (0, 0, 0, 255) or so\n",
    "        black += 1\n",
    "    else:\n",
    "        red += 1\n",
    "print('black=' + str(black)+', red='+str(red))"
   ]
  }
 ],
 "metadata": {
  "kernelspec": {
   "display_name": "Python 3",
   "language": "python",
   "name": "python3"
  },
  "language_info": {
   "codemirror_mode": {
    "name": "ipython",
    "version": 3
   },
   "file_extension": ".py",
   "mimetype": "text/x-python",
   "name": "python",
   "nbconvert_exporter": "python",
   "pygments_lexer": "ipython3",
   "version": "3.6.4"
  }
 },
 "nbformat": 4,
 "nbformat_minor": 2
}
