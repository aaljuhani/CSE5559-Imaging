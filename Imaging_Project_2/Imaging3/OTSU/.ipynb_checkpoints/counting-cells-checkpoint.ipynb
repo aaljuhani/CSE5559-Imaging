{
 "cells": [
  {
   "cell_type": "markdown",
   "metadata": {},
   "source": [
    "# Installations required (Commented out)"
   ]
  },
  {
   "cell_type": "code",
   "execution_count": null,
   "metadata": {},
   "outputs": [],
   "source": [
    "#!/usr/local/opt/python/bin/python2.7 -m pip install matplotlib==2.0.2"
   ]
  },
  {
   "cell_type": "code",
   "execution_count": null,
   "metadata": {},
   "outputs": [],
   "source": [
    "#!/usr/local/opt/python/bin/python2.7 -m pip install scipy"
   ]
  },
  {
   "cell_type": "code",
   "execution_count": null,
   "metadata": {},
   "outputs": [],
   "source": [
    "#!/usr/local/opt/python/bin/python2.7 -m pip install scikit-learn"
   ]
  },
  {
   "cell_type": "code",
   "execution_count": null,
   "metadata": {},
   "outputs": [],
   "source": [
    "#!/usr/local/opt/python/bin/python2.7 -m pip install scikit-image"
   ]
  },
  {
   "cell_type": "code",
   "execution_count": null,
   "metadata": {
    "scrolled": true
   },
   "outputs": [],
   "source": [
    "#!pip3 install scikit-image"
   ]
  },
  {
   "cell_type": "code",
   "execution_count": null,
   "metadata": {
    "collapsed": true
   },
   "outputs": [],
   "source": [
    "#!/usr/local/opt/python/bin/python2.7 -m pip install Pillow"
   ]
  },
  {
   "cell_type": "code",
   "execution_count": null,
   "metadata": {
    "collapsed": true,
    "scrolled": true
   },
   "outputs": [],
   "source": [
    "#!pip2 install tqdm"
   ]
  },
  {
   "cell_type": "code",
   "execution_count": null,
   "metadata": {
    "scrolled": true
   },
   "outputs": [],
   "source": [
    "#!pip3 install scikit-learn"
   ]
  },
  {
   "cell_type": "code",
   "execution_count": null,
   "metadata": {
    "scrolled": true
   },
   "outputs": [],
   "source": [
    "#!pip3 install scipy"
   ]
  },
  {
   "cell_type": "code",
   "execution_count": null,
   "metadata": {},
   "outputs": [],
   "source": [
    "#import sys\n",
    "#print(sys.executable)"
   ]
  },
  {
   "cell_type": "code",
   "execution_count": null,
   "metadata": {},
   "outputs": [],
   "source": [
    "#!brew install openslide\n",
    "#!/usr/local/opt/python/bin/python2.7 -m pip install openslide-python"
   ]
  },
  {
   "cell_type": "markdown",
   "metadata": {},
   "source": [
    "# Project -1 : Find percentage of a cancer in a whole slide image"
   ]
  },
  {
   "cell_type": "markdown",
   "metadata": {},
   "source": [
    "## Configuration file [Run this]"
   ]
  },
  {
   "cell_type": "code",
   "execution_count": 15,
   "metadata": {
    "collapsed": true
   },
   "outputs": [],
   "source": [
    "import os\n",
    "\n",
    "# directory of the config file\n",
    "CURRENT_DIR = os.path.realpath('.')\n",
    "\n",
    "DEFAULT_FILENAME = 'slide'\n",
    "\n",
    "IMAGE_FOLDER_PATH = CURRENT_DIR+\"/input\"\n",
    "\n",
    "OUTPUT_FOLDER_PATH = CURRENT_DIR+\"/output\"\n",
    "\n",
    "IMG_FORMAT = 'jpeg'\n",
    "\n",
    "TILE_SIZE = 2000\n",
    "\n",
    "OVERLAP = 0\n",
    "\n",
    "LIMIT_BOUNDS = True\n",
    "\n",
    "QUALITY = 100\n",
    "\n",
    "NUM_WORKERS = 12\n",
    "\n",
    "ONLY_LAST = True\n",
    "\n",
    "SAVE_REJECTED = False\n",
    "\n",
    "DONT_REJECT = True\n",
    "\n",
    "# increase this to reject more\n",
    "REJECT_THRESHOLD = 200\n",
    "\n",
    "ROTATE = False\n",
    "\n",
    "MAX_WHITE_SIZE = (TILE_SIZE*TILE_SIZE)/2\n",
    "\n",
    "def ver_print(string, value):\n",
    "    print(string + \" {0}\".format(value))"
   ]
  },
  {
   "cell_type": "markdown",
   "metadata": {},
   "source": [
    "## Preprocessing and tilling [Run this]"
   ]
  },
  {
   "cell_type": "code",
   "execution_count": 16,
   "metadata": {},
   "outputs": [
    {
     "name": "stderr",
     "output_type": "stream",
     "text": [
      "Tiling slide: wrote 296/296 tilest/s]\n",
      "Tiling macro: wrote 1/1 tiles\n",
      "Tiling thumbnail: wrote 1/1 tiles\n"
     ]
    },
    {
     "name": "stdout",
     "output_type": "stream",
     "text": [
      "Tiling completed on slide in:  <time here>\n",
      "Tiling completed on macro in:  <time here>\n",
      "Tiling completed on thumbnail in:  <time here>\n"
     ]
    },
    {
     "name": "stderr",
     "output_type": "stream",
     "text": [
      "100%|██████████| 1/1 [01:05<00:00, 65.84s/it]\n"
     ]
    }
   ],
   "source": [
    "import glob\n",
    "import os\n",
    "from tqdm import tqdm\n",
    "import PIL\n",
    "import cv2\n",
    "from PIL import Image\n",
    "from tiler import WholeSlideTiler\n",
    "\n",
    "def main():\n",
    "    files = glob.glob(IMAGE_FOLDER_PATH + '/*.svs')\n",
    "    for slidepath in tqdm(files):\n",
    "        basename = os.path.splitext(os.path.basename(slidepath))[0]\n",
    "        basepath = os.path.join(OUTPUT_FOLDER_PATH, basename)\n",
    "        WholeSlideTiler(slidepath, basepath, IMG_FORMAT, TILE_SIZE, OVERLAP, LIMIT_BOUNDS, ROTATE,\n",
    "                        QUALITY, NUM_WORKERS, ONLY_LAST).run()\n",
    "\n",
    "\n",
    "if __name__ == '__main__':\n",
    "    main()\n"
   ]
  },
  {
   "cell_type": "markdown",
   "metadata": {},
   "source": [
    "## Method: Normalizing [Run This]"
   ]
  },
  {
   "cell_type": "code",
   "execution_count": 18,
   "metadata": {
    "collapsed": true
   },
   "outputs": [],
   "source": [
    "from __future__ import division\n",
    "\n",
    "import glob\n",
    "\n",
    "import cv2\n",
    "import numpy as np\n",
    "from tqdm import tqdm\n",
    "from PIL import Image \n",
    "from numpy import random\n",
    "import os\n",
    "\n",
    "\n",
    "def safe_ln(x, minval=0.0000000001):\n",
    "    return np.log(x.clip(min=minval))\n",
    "\n",
    "\n",
    "def normalize_staining(I=None):\n",
    "    I = I.astype(np.float64)\n",
    "    Io = 240\n",
    "    beta = 0.15\n",
    "    alpha = 1\n",
    "    HERef = np.array([[0.5626, 0.2159], [0.7201, 0.8012], [0.4062, 0.5581]])\n",
    "    maxCRef = np.array([1.9705, 1.0308])\n",
    "\n",
    "    (h, w, c) = np.shape(I)\n",
    "    I = np.reshape(I, (h * w, c), order='F')\n",
    "\n",
    "    # Step 1. Convert RGB to OD.\n",
    "    OD = - np.log((I + 1) / Io) # optical density where each channel in the image is normalized to values between [0, 1]\n",
    "\n",
    "    # Step 2. Remove data with OD intensity less than beta\n",
    "    ODhat = (OD[(np.logical_not((OD < beta).any(axis=1))), :])\n",
    "\n",
    "    # Step 3. Calculate SVD on the OD tuples\n",
    "    cov = np.cov(ODhat, rowvar=False)\n",
    "    (W, V) = np.linalg.eig(cov)\n",
    "\n",
    "    # Step 4. create plane from the SVD directions\n",
    "    # corresponding to the two largest singular values\n",
    "    Vec = - np.transpose(np.array([V[:, 1], V[:, 0]]))\n",
    "\n",
    "    # Step 5. Project data onto the plane and normalize to unit Length\n",
    "    That = np.dot(ODhat, Vec)\n",
    "\n",
    "    # Step 6. Calculate angle of each point w.r.t the first SVD direction\n",
    "    phi = np.arctan2(That[:, 1], That[:, 0])\n",
    "\n",
    "    # Step 7. Find robust extremes (some alpha th and (100 - alpha th) percentiles of the angle\n",
    "    minPhi = np.percentile(phi, alpha)\n",
    "    maxPhi = np.percentile(phi, 100 - alpha)\n",
    "    vMin = np.dot(Vec, np.array([np.cos(minPhi), np.sin(minPhi)]))\n",
    "    vMax = np.dot(Vec, np.array([np.cos(maxPhi), np.sin(maxPhi)]))\n",
    "    if vMin[0] > vMax[0]:\n",
    "        HE = np.array([vMin, vMax])\n",
    "    else:\n",
    "        HE = np.array([vMax, vMin])\n",
    "\n",
    "    HE = np.transpose(HE)\n",
    "\n",
    "    # Step 8. Convert extreme values back to OD space\n",
    "    Y = np.transpose(np.reshape(OD, (h * w, c)))\n",
    "    C = np.linalg.lstsq(HE, Y,rcond=None)\n",
    "    maxC = np.percentile(C[0], 99, axis=1)\n",
    "    C = C[0] / maxC[:, None]\n",
    "    C = C * maxCRef[:, None]\n",
    "    Inorm = Io * np.exp(- np.dot(HERef, C))\n",
    "    Inorm = np.reshape(np.transpose(Inorm), (h, w, c), order='F')\n",
    "    Inorm = np.clip(Inorm, 0, 255)\n",
    "    Inorm = np.array(Inorm, dtype=np.uint8)\n",
    "\n",
    "    return Inorm  # ,H,E\n"
   ]
  },
  {
   "cell_type": "markdown",
   "metadata": {},
   "source": [
    "## Normalizing All Tiles [Run This]"
   ]
  },
  {
   "cell_type": "code",
   "execution_count": 19,
   "metadata": {},
   "outputs": [],
   "source": [
    "def main():\n",
    "\n",
    "    list_img = glob.glob(glob.glob(\"output/*/\")[0]+\"slide/*/*.jpeg\")\n",
    "    for filename in list_img: #WILL TAKE VERY LONG\n",
    "        fileout = os.path.splitext(filename)[0]+\"_normal.jpeg\"\n",
    "        img = cv2.imread(filename)\n",
    "        img = img.astype(np.float64)\n",
    "\n",
    "        img = normalize_staining(img)\n",
    "\n",
    "        cv2.imwrite(fileout, img)\n",
    "        # Uncomment for tile display\n",
    "        #img_show = Image.open(fileout)\n",
    "        #img_show.show()  \n",
    "        \n",
    "main()\n"
   ]
  },
  {
   "cell_type": "markdown",
   "metadata": {},
   "source": [
    "### METHOD: Possible Clustering evaluation (Feasible to run only on re-sized image, as entire image causes kernel to crash) [Run this IF silhoutte analysis needs to be performed]"
   ]
  },
  {
   "cell_type": "code",
   "execution_count": 20,
   "metadata": {},
   "outputs": [],
   "source": [
    "from sklearn import metrics\n",
    "from sklearn.metrics import silhouette_samples, silhouette_score\n",
    "from sklearn.cluster import KMeans\n",
    "\n",
    "###########Helper Functions##################\n",
    "def sil_best_clusters(image_to_clust):\n",
    " bestSilhouette = -1\n",
    " bestClusters = 0;\n",
    " range_of_k = 3\n",
    "\n",
    " for clusters in range(2, range_of_k):\n",
    "\t # Cluster colours\n",
    "\t clt = KMeans(n_clusters = clusters)\n",
    "\t clt.fit(image_to_clust)\n",
    "\n",
    "\t # Validate clustering result\n",
    "\t silhouette = metrics.silhouette_score(image_to_clust, clt.labels_, metric='euclidean')\n",
    "\n",
    "\t # Find the best one\n",
    "\t if silhouette > bestSilhouette:\n",
    "\t\t bestSilhouette = silhouette;\n",
    "\t\t bestClusters = clusters;\n",
    "        \n",
    " return(bestClusters)\n",
    "############################################\n",
    "\n",
    "#print(\"Ideal number of clusters: \" + str(sil_best_clusters(imageresized_array))) #Running only with resized image"
   ]
  },
  {
   "cell_type": "markdown",
   "metadata": {},
   "source": [
    "### METHOD: Clustering dominant colours with K-Means, and annotating all pixels with color centroids [Run This]\n",
    "#### K-Means clustering finds 3 color clusters of pixels, summing the RGB value and ranking cluster centroids gives us white, pink and purple clusters (high sum(RGB) = white, low sum(RGB) = purple and middle sum(RGB) = pink"
   ]
  },
  {
   "cell_type": "code",
   "execution_count": 53,
   "metadata": {},
   "outputs": [],
   "source": [
    "# Some code used from Adrian Rosebrock's k-means to find dominant colors tutorial\n",
    "from sklearn.cluster import KMeans\n",
    "from collections import Counter\n",
    "from scipy.spatial import distance\n",
    "from sklearn.metrics.pairwise import euclidean_distances\n",
    "import scipy.spatial.distance\n",
    "from scipy.spatial import distance\n",
    "import numpy as np\n",
    "from scipy.stats import rankdata\n",
    "import cv2\n",
    "import matplotlib.pyplot as plt\n",
    "from __future__ import division\n",
    "\n",
    "###########Helper Functions##################\n",
    "def centroid_histogram(clt):\n",
    "     # grab the number of different clusters and create a histogram\n",
    "     # based on the number of pixels assigned to each cluster\n",
    "    numLabels = np.arange(0, len(np.unique(clt.labels_)) + 1)\n",
    "    (hist, _) = np.histogram(clt.labels_, bins = numLabels)\n",
    "\n",
    "     # normalize the histogram, such that it sums to one\n",
    "    hist = hist.astype(\"float\")\n",
    "    hist /= hist.sum()\n",
    "\n",
    "     # return the histogram\n",
    "    return hist\n",
    "\n",
    "def plot_colors(hist, centroids):\n",
    "\t# initialize the bar chart representing the relative frequency\n",
    "\t# of each of the colors\n",
    "\tbar = np.zeros((50, 300, 3), dtype = \"uint8\")\n",
    "\tstartX = 0\n",
    "\n",
    "\t# loop over the percentage of each cluster and the color of\n",
    "\t# each cluster\n",
    "\tfor (percent, color) in zip(hist, centroids):\n",
    "\t\t# plot the relative percentage of each cluster\n",
    "\t\tendX = startX + (percent * 300)\n",
    "\t\tcv2.rectangle(bar, (int(startX), 0), (int(endX), 50),\n",
    "\t\t\tcolor.astype(\"uint8\").tolist(), -1)\n",
    "\t\tstartX = endX\n",
    "\t\n",
    "\t# return the bar chart\n",
    "\treturn bar\n",
    "\n",
    "\n",
    "#pink = [255,192,203]\n",
    "#purple = [128,0,128]\n",
    "#white = [255,255,255]\n",
    "\n",
    "\n",
    "def get_pixel_color_counts(img_arr,showdetails): \n",
    "    # Clusters the pixels\n",
    "    clt = KMeans(n_clusters = 3)\n",
    "    clt.fit(img_arr)\n",
    "    # Find cluster labels for each pixel\n",
    "    labels = clt.predict(img_arr)\n",
    "    # How many pixels in each cluster\n",
    "    Num_pix = Counter(labels)\n",
    "\n",
    "    # Debugging print statements\n",
    "    #print(Counter(labels))\n",
    "    #print(clt.cluster_centers_)\n",
    "\n",
    "    # Get the sum of R,G,B values for cluster centroids\n",
    "    myList = [sum(item) for item in np.array(clt.cluster_centers_)]\n",
    "\n",
    "    # Rank the sum of R,G,B values for cluster centroids (Higher the value, more proclivity for white, lower value will be dark purple, middle value will be pink/red)\n",
    "    ranks =((rankdata(myList) - 1).astype(int))\n",
    "\n",
    "    if showdetails:    \n",
    "    # Print cluster and member cluster details\n",
    "        print(\"White is cluster: \"+ str(np.where(np.isin(ranks,[2]))[0][0]+1)+\", With # pixels = \"+ str(Num_pix[np.where(np.isin(ranks,[2]))[0][0]]))\n",
    "        print(\"Pink/red is cluster: \"+ str(np.where(np.isin(ranks,[1]))[0][0]+1)+\", With # pixels = \"+ str(Num_pix[np.where(np.isin(ranks,[1]))[0][0]]))\n",
    "        print(\"Purple is cluster: \"+ str(np.where(np.isin(ranks,[0]))[0][0]+1)+\", With # pixels = \"+ str(Num_pix[np.where(np.isin(ranks,[0]))[0][0]]))\n",
    "\n",
    "    #Show cluster colors and bar histogram\n",
    "        hist = centroid_histogram(clt)\n",
    "        bar = plot_colors(hist, clt.cluster_centers_)\n",
    "        zipped = zip (hist, clt.cluster_centers_)\n",
    "        hist, clt.cluster_centers = zip(*zipped)\n",
    "        i=0\n",
    "        for rgb in (clt.cluster_centers_).round():\n",
    "            plt.title(i+1)\n",
    "            plt.imshow([[(rgb/255)]])\n",
    "            plt.show()\n",
    "            i+=1\n",
    "\n",
    "            plt.imshow(bar)\n",
    "            plt.show()\n",
    "    \n",
    "    total_pixels = len(labels)\n",
    "    return([total_pixels,Num_pix[np.where(np.isin(ranks,[2]))[0][0]]/total_pixels,Num_pix[np.where(np.isin(ranks,[1]))[0][0]]/total_pixels,Num_pix[np.where(np.isin(ranks,[0]))[0][0]]/total_pixels])\n",
    "#############################################\n",
    "#white,pink,purple = get_pixel_color_counts(imageorig_array,False)"
   ]
  },
  {
   "cell_type": "markdown",
   "metadata": {},
   "source": [
    "## Loading, resizing and processing tiles to annotate pixels with color\n",
    "### \"Purpleness\" is decided by unsupervised k-means clustering to find dominant colors\n",
    "#### All pixels in the \"purple\" cluster are considered \"purple or cancerous\""
   ]
  },
  {
   "cell_type": "code",
   "execution_count": 60,
   "metadata": {},
   "outputs": [
    {
     "name": "stdout",
     "output_type": "stream",
     "text": [
      "Working on 34_2_1_normal.jpeg\n",
      "Working on 4_5_1_normal.jpeg\n"
     ]
    }
   ],
   "source": [
    "# Load the image\n",
    "from skimage import io, color\n",
    "import cv2\n",
    "import numpy as np\n",
    "import os\n",
    "\n",
    "white_all_tiles = []\n",
    "pink_all_tiles = []\n",
    "white_all_tiles = []\n",
    "purple_all_tiles = []\n",
    "total_all_tiles = []\n",
    "\n",
    "list_img = glob.glob(glob.glob(\"output/*/\")[0]+\"slide/*/*_normal.jpeg\")\n",
    "\n",
    "for filename in list_img: #WILL TAKE VERY LONG\n",
    "       \n",
    "    imageorig = cv2.imread(filename)\n",
    "    print(\"Working on \"+ os.path.basename(filename))\n",
    "    # Resize it\n",
    "    h, w, _ = imageorig.shape\n",
    "    w_new = int(100 * w / max(w, h) )\n",
    "    h_new = int(100 * h / max(w, h) )\n",
    "    image = cv2.resize(imageorig, (w_new, h_new));\n",
    "    # Using original image (possible to use resized image above for faster processing)\n",
    "    # Reshape image to be a list of pixels\n",
    "    imageorig_array = imageorig.reshape((imageorig.shape[0] * imageorig.shape[1], 3))\n",
    "    total,white,pink,purple = get_pixel_color_counts(imageorig_array,False)\n",
    "    total_all_tiles.extend([total])\n",
    "    white_all_tiles.extend([white])\n",
    "    pink_all_tiles.extend([pink])\n",
    "    purple_all_tiles.extend([purple])\n",
    "\n",
    "\n",
    "\n",
    "\n",
    "    \n",
    "    \n",
    "    \n",
    "    \n",
    "#convert color space from RGB to LAB\n",
    "#image = cv2.cvtColor(image, cv2.COLOR_RGB2LAB)\n",
    "\n",
    "\n",
    "# This line is to set L values to 0 and keep A and B\n",
    "#image[:,:,0]= 0\n",
    "#print(image)\n",
    "\n",
    "#cv2.imshow('image',image)\n",
    "#cv2.waitKey(0)\n",
    "#print(image[0][0])\n"
   ]
  },
  {
   "cell_type": "markdown",
   "metadata": {},
   "source": [
    "## Plot histograms of ratio of white, pink and purple pixels over total number of pixels across tiles"
   ]
  },
  {
   "cell_type": "code",
   "execution_count": 61,
   "metadata": {},
   "outputs": [
    {
     "data": {
      "image/png": "[encoded data removed]",
      "text/plain": [
       "<matplotlib.figure.Figure at 0x119a15d50>"
      ]
     },
     "metadata": {},
     "output_type": "display_data"
    },
    {
     "data": {
      "image/png": "[encoded data removed]",
      "text/plain": [
       "<matplotlib.figure.Figure at 0x119e57d90>"
      ]
     },
     "metadata": {},
     "output_type": "display_data"
    },
    {
     "data": {
      "image/png": "[encoded data removed]",
      "text/plain": [
       "<matplotlib.figure.Figure at 0x117613110>"
      ]
     },
     "metadata": {},
     "output_type": "display_data"
    }
   ],
   "source": [
    "import matplotlib.pyplot as plt\n",
    "import numpy as np\n",
    "\n",
    "plt.hist(white_all_tiles, bins='auto',color = \"gray\",edgecolor='black', linewidth=1.2,range=[0, 1])  # arguments are passed to np.histogram\n",
    "plt.title(\"Histogram of \\n white_pixels/all_pixels across tiles\")\n",
    "plt.show()\n",
    "plt.hist(pink_all_tiles, bins='auto',color = \"pink\",edgecolor='black', linewidth=1.2,range=[0, 1])  # arguments are passed to np.histogram\n",
    "plt.title(\"Histogram of \\n pink_pixels/all_pixels across tiles\")\n",
    "plt.show()\n",
    "plt.hist(purple_all_tiles, bins='auto',color = \"purple\",edgecolor='black', linewidth=1.2,range=[0, 1])  # arguments are passed to np.histogram\n",
    "plt.title(\"Histogram of \\n purple_pixels/all_pixels across tiles\")\n",
    "plt.show()"
   ]
  },
  {
   "cell_type": "markdown",
   "metadata": {},
   "source": [
    "## Find sum of purple/non-purple over all tiles and estimate total cancer"
   ]
  },
  {
   "cell_type": "code",
   "execution_count": 62,
   "metadata": {},
   "outputs": [
    {
     "name": "stdout",
     "output_type": "stream",
     "text": [
      "Total cancer: 0.339816375\n"
     ]
    }
   ],
   "source": [
    "#Total pixels across all tiles\n",
    "total_pixels_of_tiles = sum(total_all_tiles)\n",
    "#Total purple pixels across all tiles (((ratio of purple/all pixels) * all pixels) in each tile)\n",
    "total_purple_pixels_of_tiles = sum([a*b for a,b in zip(purple_all_tiles,total_all_tiles)])\n",
    "#Total cancer is total purple pixels/total all pixels\n",
    "print(\"Total cancer: \"+ str(total_purple_pixels_of_tiles/total_pixels_of_tiles))"
   ]
  },
  {
   "cell_type": "markdown",
   "metadata": {},
   "source": [
    "## Test of various ways to annotate pink, white and purple pixels (Commented out)"
   ]
  },
  {
   "cell_type": "code",
   "execution_count": null,
   "metadata": {
    "scrolled": true
   },
   "outputs": [],
   "source": [
    "#from scipy.spatial import distance\n",
    "#import numpy as np\n",
    "#from scipy.stats import rankdata\n",
    "\n",
    "#pink = [255,192,203]\n",
    "#purple = [128,0,128]\n",
    "#white = [255,255,255]\n",
    "\n",
    "#a = np.array([pink,white,purple])\n",
    "#b = np.array([[232.21804653,225.47207084,235.11397529],[67.25475005,28.18760198,62.60561427],[136.8342103,93.84363329,161.96761943]])\n",
    "#d = distance.cdist(a, b, 'euclidean')\n",
    "#print(d[:,2])\n",
    "#values = d[:,2]\n",
    "\n",
    "#myList = [sum(item) for item in b]\n",
    "#print((rankdata(myList) - 1).astype(int))\n",
    "#myList = [501,2,500,3]\n",
    "#print(np.argsort(myList))\n",
    "#print([c[0] for c in sorted(enumerate(myList),key=lambda i:i[1])])\n",
    "#print(np.sum(b[0]))\n",
    "#print(np.sum(b[1]))\n",
    "#print(np.sum(b[2]))\n",
    "#print(np.argmin(values))\n",
    "#print(distance.euclidean(a[1],b[0]))"
   ]
  },
  {
   "cell_type": "markdown",
   "metadata": {},
   "source": [
    "## Possible way of counting colors per pixel (if exact color range is known) (Commented out)"
   ]
  },
  {
   "cell_type": "code",
   "execution_count": null,
   "metadata": {},
   "outputs": [],
   "source": [
    "#from PIL import Image , ImageStat\n",
    "\n",
    "\n",
    "#im = Image.open(\"112_16_1.jpeg\").convert('L')\n",
    "#stat = ImageStat.Stat(im)\n",
    "#print(\"Read RMS brightness of image: \")\n",
    "#print(stat.extrema)\n",
    "#print(stat.count)\n",
    "#print(stat.sum)\n",
    "\n",
    "\n",
    "#black = 0\n",
    "#red = 0\n",
    "\n",
    "#for pixel in im.getdata():\n",
    "    #if pixel == (0, 0, 0): # if your image is RGB (if RGBA, (0, 0, 0, 255) or so\n",
    "       # black += 1\n",
    "    #else:\n",
    "     #   red += 1\n",
    "#print('black=' + str(black)+', red='+str(red))"
   ]
  },
  {
   "cell_type": "code",
   "execution_count": null,
   "metadata": {
    "collapsed": true
   },
   "outputs": [],
   "source": []
  }
 ],
 "metadata": {
  "kernelspec": {
   "display_name": "Python 2",
   "language": "python",
   "name": "python2"
  },
  "language_info": {
   "codemirror_mode": {
    "name": "ipython",
    "version": 2
   },
   "file_extension": ".py",
   "mimetype": "text/x-python",
   "name": "python",
   "nbconvert_exporter": "python",
   "pygments_lexer": "ipython2",
   "version": "2.7.14"
  }
 },
 "nbformat": 4,
 "nbformat_minor": 2
}
