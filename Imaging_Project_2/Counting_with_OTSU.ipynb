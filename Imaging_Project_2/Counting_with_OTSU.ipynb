{
 "cells": [
  {
   "cell_type": "markdown",
   "metadata": {},
   "source": [
    "# Project -2 : Counting using OTSU thresholding"
   ]
  },
  {
   "cell_type": "code",
   "execution_count": 2,
   "metadata": {},
   "outputs": [
    {
     "name": "stdout",
     "output_type": "stream",
     "text": [
      "White is cluster: 1, With # pixels = 254199\n",
      "Pink/red is cluster: 3, With # pixels = 242339\n",
      "Purple is cluster: 2, With # pixels = 303402\n"
     ]
    },
    {
     "data": {
      "image/png": "[encoded data removed]",
      "text/plain": [
       "<matplotlib.figure.Figure at 0x10505f210>"
      ]
     },
     "metadata": {},
     "output_type": "display_data"
    },
    {
     "data": {
      "image/png": "[encoded data removed]",
      "text/plain": [
       "<matplotlib.figure.Figure at 0x110a06c10>"
      ]
     },
     "metadata": {},
     "output_type": "display_data"
    },
    {
     "data": {
      "image/png": "[encoded data removed]",
      "text/plain": [
       "<matplotlib.figure.Figure at 0x110a33690>"
      ]
     },
     "metadata": {},
     "output_type": "display_data"
    },
    {
     "data": {
      "image/png": "[encoded data removed]",
      "text/plain": [
       "<matplotlib.figure.Figure at 0x110b000d0>"
      ]
     },
     "metadata": {},
     "output_type": "display_data"
    },
    {
     "data": {
      "image/png": "[encoded data removed]",
      "text/plain": [
       "<matplotlib.figure.Figure at 0x110ab5d50>"
      ]
     },
     "metadata": {},
     "output_type": "display_data"
    },
    {
     "data": {
      "image/png": "[encoded data removed]",
      "text/plain": [
       "<matplotlib.figure.Figure at 0x110ab5ed0>"
      ]
     },
     "metadata": {},
     "output_type": "display_data"
    },
    {
     "data": {
      "text/plain": [
       "[1000000, 0.254199, 0.242339, 0.303402]"
      ]
     },
     "execution_count": 2,
     "metadata": {},
     "output_type": "execute_result"
    }
   ],
   "source": [
    "#Testing cell\n",
    "imageorig = cv2.imread(\"19_15_1.jpeg\")\n",
    "imageorig_array = imageorig.reshape((imageorig.shape[0] * imageorig.shape[1], 3))\n",
    "get_pixel_color_counts(imageorig_array,True)"
   ]
  },
  {
   "cell_type": "markdown",
   "metadata": {},
   "source": [
    "# Installations required (Commented out)"
   ]
  },
  {
   "cell_type": "code",
   "execution_count": null,
   "metadata": {
    "collapsed": true
   },
   "outputs": [],
   "source": [
    "#!/usr/local/opt/python/bin/python2.7 -m pip install matplotlib==2.0.2"
   ]
  },
  {
   "cell_type": "code",
   "execution_count": null,
   "metadata": {
    "collapsed": true
   },
   "outputs": [],
   "source": [
    "#!/usr/local/opt/python/bin/python2.7 -m pip install scipy"
   ]
  },
  {
   "cell_type": "code",
   "execution_count": null,
   "metadata": {
    "collapsed": true
   },
   "outputs": [],
   "source": [
    "#!/usr/local/opt/python/bin/python2.7 -m pip install scikit-learn"
   ]
  },
  {
   "cell_type": "code",
   "execution_count": null,
   "metadata": {
    "collapsed": true
   },
   "outputs": [],
   "source": [
    "#!/usr/local/opt/python/bin/python2.7 -m pip install scikit-image"
   ]
  },
  {
   "cell_type": "code",
   "execution_count": null,
   "metadata": {
    "collapsed": true,
    "scrolled": true
   },
   "outputs": [],
   "source": [
    "#!pip3 install scikit-image"
   ]
  },
  {
   "cell_type": "code",
   "execution_count": null,
   "metadata": {
    "collapsed": true
   },
   "outputs": [],
   "source": [
    "#!/usr/local/opt/python/bin/python2.7 -m pip install Pillow"
   ]
  },
  {
   "cell_type": "code",
   "execution_count": null,
   "metadata": {
    "collapsed": true,
    "scrolled": true
   },
   "outputs": [],
   "source": [
    "#!pip2 install tqdm"
   ]
  },
  {
   "cell_type": "code",
   "execution_count": null,
   "metadata": {
    "collapsed": true,
    "scrolled": true
   },
   "outputs": [],
   "source": [
    "#!pip3 install scikit-learn"
   ]
  },
  {
   "cell_type": "code",
   "execution_count": null,
   "metadata": {
    "collapsed": true,
    "scrolled": true
   },
   "outputs": [],
   "source": [
    "#!pip3 install scipy"
   ]
  },
  {
   "cell_type": "code",
   "execution_count": null,
   "metadata": {
    "collapsed": true
   },
   "outputs": [],
   "source": [
    "#import sys\n",
    "#print(sys.executable)"
   ]
  },
  {
   "cell_type": "code",
   "execution_count": null,
   "metadata": {
    "collapsed": true
   },
   "outputs": [],
   "source": [
    "#!brew install openslide\n",
    "#!/usr/local/opt/python/bin/python2.7 -m pip install openslide-python"
   ]
  },
  {
   "cell_type": "code",
   "execution_count": 4,
   "metadata": {},
   "outputs": [
    {
     "name": "stdout",
     "output_type": "stream",
     "text": [
      "Collecting mahotas\n",
      "  Using cached mahotas-1.4.4.tar.gz\n",
      "Requirement already satisfied: numpy in /usr/local/lib/python3.6/site-packages (from mahotas)\n",
      "Building wheels for collected packages: mahotas\n",
      "  Running setup.py bdist_wheel for mahotas ... \u001b[?25ldone\n",
      "\u001b[?25h  Stored in directory: /Users/asmaaaljuhani/Library/Caches/pip/wheels/76/87/24/2ffb31d56c7d1f21175c006697cb7e305a43fe0be0891cfdc8\n",
      "Successfully built mahotas\n",
      "Installing collected packages: mahotas\n",
      "Successfully installed mahotas-1.4.4\n"
     ]
    }
   ],
   "source": [
    "#!pip3 install mahotas"
   ]
  },
  {
   "cell_type": "markdown",
   "metadata": {},
   "source": [
    "## Configuration file [Run this]"
   ]
  },
  {
   "cell_type": "code",
   "execution_count": 1,
   "metadata": {
    "collapsed": true
   },
   "outputs": [],
   "source": [
    "import os\n",
    "\n",
    "# directory of the config file\n",
    "CURRENT_DIR = os.path.realpath('.')\n",
    "\n",
    "DEFAULT_FILENAME = 'slide'\n",
    "\n",
    "IMAGE_FOLDER_PATH = CURRENT_DIR+\"/input\"\n",
    "\n",
    "OUTPUT_FOLDER_PATH = CURRENT_DIR+\"/output\"\n",
    "\n",
    "IMG_FORMAT = 'jpeg'\n",
    "\n",
    "TILE_SIZE = 1000\n",
    "\n",
    "OVERLAP = 0\n",
    "\n",
    "LIMIT_BOUNDS = True\n",
    "\n",
    "QUALITY = 100\n",
    "\n",
    "NUM_WORKERS = 12\n",
    "\n",
    "ONLY_LAST = True\n",
    "\n",
    "SAVE_REJECTED = False\n",
    "\n",
    "DONT_REJECT = True\n",
    "\n",
    "# increase this to reject more\n",
    "REJECT_THRESHOLD = 200\n",
    "\n",
    "ROTATE = False\n",
    "\n",
    "MAX_WHITE_SIZE = (TILE_SIZE*TILE_SIZE)/2\n",
    "\n",
    "def ver_print(string, value):\n",
    "    print(string + \" {0}\".format(value))"
   ]
  },
  {
   "cell_type": "markdown",
   "metadata": {},
   "source": [
    "## Preprocessing and tilling [Run this]"
   ]
  },
  {
   "cell_type": "code",
   "execution_count": 2,
   "metadata": {},
   "outputs": [
    {
     "name": "stderr",
     "output_type": "stream",
     "text": [
      "Tiling slide: wrote 1110/1110 tiless]\n",
      "Tiling macro: wrote 2/2 tiles\n",
      "Tiling thumbnail: wrote 2/2 tiles\n"
     ]
    },
    {
     "name": "stdout",
     "output_type": "stream",
     "text": [
      "Tiling completed on slide in:  <time here>\n",
      "Tiling completed on macro in:  <time here>\n",
      "Tiling completed on thumbnail in:  <time here>\n"
     ]
    },
    {
     "name": "stderr",
     "output_type": "stream",
     "text": [
      "100%|██████████| 1/1 [00:47<00:00, 47.95s/it]\n"
     ]
    }
   ],
   "source": [
    "import glob\n",
    "import os\n",
    "from tqdm import tqdm\n",
    "import PIL\n",
    "import cv2\n",
    "from PIL import Image\n",
    "from tiler import WholeSlideTiler\n",
    "\n",
    "def main():\n",
    "    files = glob.glob(IMAGE_FOLDER_PATH + '/*.svs')\n",
    "    for slidepath in tqdm(files):\n",
    "        basename = os.path.splitext(os.path.basename(slidepath))[0]\n",
    "        basepath = os.path.join(OUTPUT_FOLDER_PATH, basename)\n",
    "        WholeSlideTiler(slidepath, basepath, IMG_FORMAT, TILE_SIZE, OVERLAP, LIMIT_BOUNDS, ROTATE,\n",
    "                        QUALITY, NUM_WORKERS, ONLY_LAST).run()\n",
    "\n",
    "\n",
    "if __name__ == '__main__':\n",
    "    main()\n"
   ]
  },
  {
   "cell_type": "markdown",
   "metadata": {},
   "source": [
    "## Method: Normalizing [Run This]"
   ]
  },
  {
   "cell_type": "code",
   "execution_count": 3,
   "metadata": {
    "collapsed": true
   },
   "outputs": [],
   "source": [
    "from __future__ import division\n",
    "\n",
    "import glob\n",
    "\n",
    "import cv2\n",
    "import numpy as np\n",
    "from tqdm import tqdm\n",
    "from PIL import Image \n",
    "from numpy import random\n",
    "import os\n",
    "\n",
    "\n",
    "def safe_ln(x, minval=0.0000000001):\n",
    "    return np.log(x.clip(min=minval))\n",
    "\n",
    "\n",
    "def normalize_staining(I=None):\n",
    "    I = I.astype(np.float64)\n",
    "    Io = 240\n",
    "    beta = 0.15\n",
    "    alpha = 1\n",
    "    HERef = np.array([[0.5626, 0.2159], [0.7201, 0.8012], [0.4062, 0.5581]])\n",
    "    maxCRef = np.array([1.9705, 1.0308])\n",
    "\n",
    "    (h, w, c) = np.shape(I)\n",
    "    I = np.reshape(I, (h * w, c), order='F')\n",
    "\n",
    "    # Step 1. Convert RGB to OD.\n",
    "    OD = - np.log((I + 1) / Io) # optical density where each channel in the image is normalized to values between [0, 1]\n",
    "\n",
    "    # Step 2. Remove data with OD intensity less than beta\n",
    "    ODhat = (OD[(np.logical_not((OD < beta).any(axis=1))), :])\n",
    "\n",
    "    # Step 3. Calculate SVD on the OD tuples\n",
    "    cov = np.cov(ODhat, rowvar=False)\n",
    "    (W, V) = np.linalg.eig(cov)\n",
    "\n",
    "    # Step 4. create plane from the SVD directions\n",
    "    # corresponding to the two largest singular values\n",
    "    Vec = - np.transpose(np.array([V[:, 1], V[:, 0]]))\n",
    "\n",
    "    # Step 5. Project data onto the plane and normalize to unit Length\n",
    "    That = np.dot(ODhat, Vec)\n",
    "\n",
    "    # Step 6. Calculate angle of each point w.r.t the first SVD direction\n",
    "    phi = np.arctan2(That[:, 1], That[:, 0])\n",
    "\n",
    "    # Step 7. Find robust extremes (some alpha th and (100 - alpha th) percentiles of the angle\n",
    "    minPhi = np.percentile(phi, alpha)\n",
    "    maxPhi = np.percentile(phi, 100 - alpha)\n",
    "    vMin = np.dot(Vec, np.array([np.cos(minPhi), np.sin(minPhi)]))\n",
    "    vMax = np.dot(Vec, np.array([np.cos(maxPhi), np.sin(maxPhi)]))\n",
    "    if vMin[0] > vMax[0]:\n",
    "        HE = np.array([vMin, vMax])\n",
    "    else:\n",
    "        HE = np.array([vMax, vMin])\n",
    "\n",
    "    HE = np.transpose(HE)\n",
    "\n",
    "    # Step 8. Convert extreme values back to OD space\n",
    "    Y = np.transpose(np.reshape(OD, (h * w, c)))\n",
    "    C = np.linalg.lstsq(HE, Y,rcond=None)\n",
    "    maxC = np.percentile(C[0], 99, axis=1)\n",
    "    C = C[0] / maxC[:, None]\n",
    "    C = C * maxCRef[:, None]\n",
    "    Inorm = Io * np.exp(- np.dot(HERef, C))\n",
    "    Inorm = np.reshape(np.transpose(Inorm), (h, w, c), order='F')\n",
    "    Inorm = np.clip(Inorm, 0, 255)\n",
    "    Inorm = np.array(Inorm, dtype=np.uint8)\n",
    "\n",
    "    return Inorm  # ,H,E\n"
   ]
  },
  {
   "cell_type": "markdown",
   "metadata": {},
   "source": [
    "## Normalizing All Tiles [Run This]"
   ]
  },
  {
   "cell_type": "code",
   "execution_count": 4,
   "metadata": {
    "collapsed": true
   },
   "outputs": [],
   "source": [
    "def main():\n",
    "\n",
    "    list_img = glob.glob(glob.glob(\"output/*/\")[0]+\"slide/*/*.jpeg\")\n",
    "    for filename in list_img: #WILL TAKE SOME TIME\n",
    "        fileout = os.path.splitext(filename)[0]+\"_normal.jpeg\"\n",
    "        img = cv2.imread(filename)\n",
    "        img = img.astype(np.float64)\n",
    "\n",
    "        img = normalize_staining(img)\n",
    "\n",
    "        cv2.imwrite(fileout, img)\n",
    "        # Uncomment for tile display\n",
    "        #img_show = Image.open(fileout)\n",
    "        #img_show.show()  \n",
    "        \n",
    "main()\n"
   ]
  },
  {
   "cell_type": "markdown",
   "metadata": {},
   "source": [
    "### METHOD: Possible Clustering evaluation (Feasible to run only on re-sized image, as entire image causes kernel to crash) [Run this IF silhoutte analysis needs to be performed]"
   ]
  },
  {
   "cell_type": "code",
   "execution_count": 13,
   "metadata": {
    "collapsed": true
   },
   "outputs": [],
   "source": [
    "from sklearn import metrics\n",
    "from sklearn.metrics import silhouette_samples, silhouette_score\n",
    "from sklearn.cluster import KMeans\n",
    "\n",
    "###########Helper Functions##################\n",
    "def sil_best_clusters(image_to_clust):\n",
    " bestSilhouette = -1\n",
    " bestClusters = 0;\n",
    " range_of_k = 3\n",
    "\n",
    " for clusters in range(2, range_of_k):\n",
    "\t # Cluster colours\n",
    "\t clt = KMeans(n_clusters = clusters)\n",
    "\t clt.fit(image_to_clust)\n",
    "\n",
    "\t # Validate clustering result\n",
    "\t silhouette = metrics.silhouette_score(image_to_clust, clt.labels_, metric='euclidean')\n",
    "\n",
    "\t # Find the best one\n",
    "\t if silhouette > bestSilhouette:\n",
    "\t\t bestSilhouette = silhouette;\n",
    "\t\t bestClusters = clusters;\n",
    "        \n",
    " return(bestClusters)\n",
    "############################################\n",
    "\n",
    "#print(\"Ideal number of clusters: \" + str(sil_best_clusters(imageresized_array))) #Running only with resized image"
   ]
  },
  {
   "cell_type": "markdown",
   "metadata": {},
   "source": [
    "### METHOD: Clustering dominant colours with K-Means, and annotating all pixels with color centroids [Run This]\n",
    "#### K-Means clustering finds 3 color clusters of pixels, summing the RGB value and ranking cluster centroids gives us white, pink and purple clusters (high sum(RGB) = white, low sum(RGB) = purple and middle sum(RGB) = pink"
   ]
  },
  {
   "cell_type": "code",
   "execution_count": 1,
   "metadata": {
    "collapsed": true
   },
   "outputs": [],
   "source": [
    "# Some code used from Adrian Rosebrock's k-means to find dominant colors tutorial\n",
    "from sklearn.cluster import KMeans\n",
    "from collections import Counter\n",
    "from scipy.spatial import distance\n",
    "from sklearn.metrics.pairwise import euclidean_distances\n",
    "import scipy.spatial.distance\n",
    "from scipy.spatial import distance\n",
    "import numpy as np\n",
    "from scipy.stats import rankdata\n",
    "import cv2\n",
    "import matplotlib.pyplot as plt\n",
    "from __future__ import division\n",
    "\n",
    "###########Helper Functions##################\n",
    "def centroid_histogram(clt):\n",
    "     # grab the number of different clusters and create a histogram\n",
    "     # based on the number of pixels assigned to each cluster\n",
    "    numLabels = np.arange(0, len(np.unique(clt.labels_)) + 1)\n",
    "    (hist, _) = np.histogram(clt.labels_, bins = numLabels)\n",
    "\n",
    "     # normalize the histogram, such that it sums to one\n",
    "    hist = hist.astype(\"float\")\n",
    "    hist /= hist.sum()\n",
    "\n",
    "     # return the histogram\n",
    "    return hist\n",
    "\n",
    "def plot_colors(hist, centroids):\n",
    "\t# initialize the bar chart representing the relative frequency\n",
    "\t# of each of the colors\n",
    "\tbar = np.zeros((50, 300, 3), dtype = \"uint8\")\n",
    "\tstartX = 0\n",
    "\n",
    "\t# loop over the percentage of each cluster and the color of\n",
    "\t# each cluster\n",
    "\tfor (percent, color) in zip(hist, centroids):\n",
    "\t\t# plot the relative percentage of each cluster\n",
    "\t\tendX = startX + (percent * 300)\n",
    "\t\tcv2.rectangle(bar, (int(startX), 0), (int(endX), 50),\n",
    "\t\t\tcolor.astype(\"uint8\").tolist(), -1)\n",
    "\t\tstartX = endX\n",
    "\t\n",
    "\t# return the bar chart\n",
    "\treturn bar\n",
    "\n",
    "\n",
    "#pink = [255,192,203]\n",
    "#purple = [128,0,128]\n",
    "#white = [255,255,255]\n",
    "def ClusterIndicesNumpy(arr, clustNum, labels_array): #numpy \n",
    "    return(arr[np.where(labels_array == clustNum)[0]])\n",
    "     \n",
    "\n",
    "def get_pixel_color_counts(img_arr,showdetails): \n",
    "    # Clusters the pixels\n",
    "    clt = KMeans(n_clusters = 3)\n",
    "    clt.fit(img_arr)\n",
    "    # Find cluster labels for each pixel\n",
    "    labels = clt.predict(img_arr)\n",
    "    \n",
    "    # Remove \"outliers\" that don't belong to any pertinent color, i.e non-specific colors (top 20% most distant pixels from cluster centroids)\n",
    "    ranks0 =((rankdata(distance.cdist(ClusterIndicesNumpy(img_arr,0, labels), [clt.cluster_centers_[0]], 'euclidean')) - 1).astype(int))\n",
    "    ranks1 =((rankdata(distance.cdist(ClusterIndicesNumpy(img_arr,1, labels), [clt.cluster_centers_[1]], 'euclidean')) - 1).astype(int))\n",
    "    ranks2 =((rankdata(distance.cdist(ClusterIndicesNumpy(img_arr,2, labels), [clt.cluster_centers_[2]], 'euclidean')) - 1).astype(int))\n",
    "    newranks0 = ranks0<round(len(ranks0)*0.80)\n",
    "    newranks1 = ranks1<round(len(ranks1)*0.80)\n",
    "    newranks2 = ranks2<round(len(ranks2)*0.80)\n",
    "    \n",
    "    labels0 = labels[np.where(labels == 0)[0]]\n",
    "    labels1 = labels[np.where(labels == 1)[0]]\n",
    "    labels2 = labels[np.where(labels == 2)[0]]\n",
    "    \n",
    "    newlabels0 = labels0[newranks0]\n",
    "    newlabels1 = labels1[newranks1]\n",
    "    newlabels2 = labels2[newranks2]\n",
    "    \n",
    "    newlabels =  np.concatenate([newlabels0, newlabels1, newlabels2])\n",
    "\n",
    "    # How many pixels in each cluster originally\n",
    "    Num_pix = Counter(labels)\n",
    "    # How many pixels in each cluster after removing non-specific colors\n",
    "    Num_pix_refined = Counter(newlabels)\n",
    "    \n",
    "    # Debugging print statements\n",
    "    #print(Counter(labels))\n",
    "    #print(clt.cluster_centers_)\n",
    "\n",
    "    # Get the sum of R,G,B values for cluster centroids\n",
    "    myList = [sum(item) for item in np.array(clt.cluster_centers_)]\n",
    "\n",
    "    # Rank the sum of R,G,B values for cluster centroids (Higher the value, more proclivity for white, lower value will be dark purple, middle value will be pink/red)\n",
    "    ranks =((rankdata(myList) - 1).astype(int))\n",
    "\n",
    "    if showdetails:    \n",
    "    # Print cluster and member cluster details\n",
    "        print(\"White is cluster: \"+ str(np.where(np.isin(ranks,[2]))[0][0]+1)+\", With # pixels = \"+ str(Num_pix_refined[np.where(np.isin(ranks,[2]))[0][0]]))\n",
    "        print(\"Pink/red is cluster: \"+ str(np.where(np.isin(ranks,[1]))[0][0]+1)+\", With # pixels = \"+ str(Num_pix_refined[np.where(np.isin(ranks,[1]))[0][0]]))\n",
    "        print(\"Purple is cluster: \"+ str(np.where(np.isin(ranks,[0]))[0][0]+1)+\", With # pixels = \"+ str(Num_pix_refined[np.where(np.isin(ranks,[0]))[0][0]]))\n",
    "\n",
    "    #Show cluster colors and bar histogram\n",
    "        hist = centroid_histogram(clt)\n",
    "        bar = plot_colors(hist, clt.cluster_centers_)\n",
    "        zipped = zip (hist, clt.cluster_centers_)\n",
    "        hist, clt.cluster_centers = zip(*zipped)\n",
    "        i=0\n",
    "        for rgb in (clt.cluster_centers_).round():\n",
    "            plt.title(i+1)\n",
    "            plt.imshow([[(rgb/255)]])\n",
    "            plt.show()\n",
    "            i+=1\n",
    "\n",
    "            plt.imshow(bar)\n",
    "            plt.show()\n",
    "    \n",
    "    total_pixels = len(labels)\n",
    "    return([total_pixels,Num_pix_refined[np.where(np.isin(ranks,[2]))[0][0]]/total_pixels,Num_pix_refined[np.where(np.isin(ranks,[1]))[0][0]]/total_pixels,Num_pix_refined[np.where(np.isin(ranks,[0]))[0][0]]/total_pixels])\n",
    "#############################################\n",
    "#Uncomment for testing\n",
    "#imageorig = cv2.imread(\"test_tiny.jpg\")\n",
    "#imageorig_array = imageorig.reshape((imageorig.shape[0] * imageorig.shape[1], 3))\n",
    "#total,white,pink,purple = get_pixel_color_counts(imageorig_array,True)"
   ]
  },
  {
   "cell_type": "markdown",
   "metadata": {},
   "source": [
    "## Loading, resizing and processing tiles to annotate pixels with color [Run This]\n",
    "### \"Purpleness\" is decided by unsupervised k-means clustering to find dominant colors\n",
    "#### All pixels in the \"purple\" cluster are considered \"purple or cancerous\""
   ]
  },
  {
   "cell_type": "code",
   "execution_count": 6,
   "metadata": {},
   "outputs": [
    {
     "name": "stdout",
     "output_type": "stream",
     "text": [
      "Working on 10_10_1_normal.jpeg\n",
      "Working on 10_11_1_normal.jpeg\n",
      "Working on 10_12_1_normal.jpeg\n",
      "Working on 10_5_1_normal.jpeg\n",
      "Working on 10_6_1_normal.jpeg\n",
      "Working on 10_7_1_normal.jpeg\n",
      "Working on 10_8_1_normal.jpeg\n",
      "Working on 10_9_1_normal.jpeg\n",
      "Working on 11_10_1_normal.jpeg\n",
      "Working on 11_11_1_normal.jpeg\n",
      "Working on 11_5_1_normal.jpeg\n",
      "Working on 11_6_1_normal.jpeg\n",
      "Working on 11_7_1_normal.jpeg\n",
      "Working on 11_8_1_normal.jpeg\n",
      "Working on 11_9_1_normal.jpeg\n",
      "Working on 12_10_1_normal.jpeg\n",
      "Working on 12_11_1_normal.jpeg\n",
      "Working on 12_5_1_normal.jpeg\n",
      "Working on 12_6_1_normal.jpeg\n",
      "Working on 12_7_1_normal.jpeg\n",
      "Working on 12_8_1_normal.jpeg\n",
      "Working on 12_9_1_normal.jpeg\n",
      "Working on 13_10_1_normal.jpeg\n",
      "Working on 13_11_1_normal.jpeg\n",
      "Working on 13_6_1_normal.jpeg\n",
      "Working on 13_7_1_normal.jpeg\n",
      "Working on 13_8_1_normal.jpeg\n",
      "Working on 13_9_1_normal.jpeg\n",
      "Working on 14_10_1_normal.jpeg\n",
      "Working on 14_11_1_normal.jpeg\n",
      "Working on 14_6_1_normal.jpeg\n",
      "Working on 14_7_1_normal.jpeg\n",
      "Working on 14_8_1_normal.jpeg\n",
      "Working on 14_9_1_normal.jpeg\n",
      "Working on 15_10_1_normal.jpeg\n",
      "Working on 15_11_1_normal.jpeg\n",
      "Working on 15_6_1_normal.jpeg\n",
      "Working on 15_7_1_normal.jpeg\n",
      "Working on 15_8_1_normal.jpeg\n",
      "Working on 15_9_1_normal.jpeg\n",
      "Working on 16_10_1_normal.jpeg\n",
      "Working on 16_11_1_normal.jpeg\n",
      "Working on 16_6_1_normal.jpeg\n",
      "Working on 16_7_1_normal.jpeg\n",
      "Working on 16_8_1_normal.jpeg\n",
      "Working on 16_9_1_normal.jpeg\n",
      "Working on 17_10_1_normal.jpeg\n",
      "Working on 17_6_1_normal.jpeg\n",
      "Working on 17_7_1_normal.jpeg\n",
      "Working on 17_8_1_normal.jpeg\n",
      "Working on 17_9_1_normal.jpeg\n",
      "Working on 18_10_1_normal.jpeg\n",
      "Working on 18_6_1_normal.jpeg\n",
      "Working on 18_7_1_normal.jpeg\n",
      "Working on 18_8_1_normal.jpeg\n",
      "Working on 18_9_1_normal.jpeg\n",
      "Working on 19_10_1_normal.jpeg\n",
      "Working on 19_6_1_normal.jpeg\n",
      "Working on 19_7_1_normal.jpeg\n",
      "Working on 19_8_1_normal.jpeg\n",
      "Working on 19_9_1_normal.jpeg\n",
      "Working on 20_10_1_normal.jpeg\n",
      "Working on 20_6_1_normal.jpeg\n",
      "Working on 20_7_1_normal.jpeg\n",
      "Working on 20_8_1_normal.jpeg\n",
      "Working on 20_9_1_normal.jpeg\n",
      "Working on 21_10_1_normal.jpeg\n",
      "Working on 21_7_1_normal.jpeg\n",
      "Working on 21_8_1_normal.jpeg\n",
      "Working on 21_9_1_normal.jpeg\n",
      "Working on 22_10_1_normal.jpeg\n",
      "Working on 22_7_1_normal.jpeg\n",
      "Working on 22_8_1_normal.jpeg\n",
      "Working on 22_9_1_normal.jpeg\n",
      "Working on 23_10_1_normal.jpeg\n",
      "Working on 23_11_1_normal.jpeg\n",
      "Working on 23_7_1_normal.jpeg\n",
      "Working on 23_8_1_normal.jpeg\n",
      "Working on 24_10_1_normal.jpeg\n",
      "Working on 24_11_1_normal.jpeg\n",
      "Working on 24_8_1_normal.jpeg\n",
      "Working on 24_9_1_normal.jpeg\n",
      "Working on 25_11_1_normal.jpeg\n",
      "Working on 49_2_1_normal.jpeg\n",
      "Working on 49_3_1_normal.jpeg\n",
      "Working on 49_4_1_normal.jpeg\n",
      "Working on 49_5_1_normal.jpeg\n",
      "Working on 4_10_1_normal.jpeg\n",
      "Working on 4_11_1_normal.jpeg\n",
      "Working on 4_12_1_normal.jpeg\n",
      "Working on 4_5_1_normal.jpeg\n",
      "Working on 4_6_1_normal.jpeg\n",
      "Working on 4_7_1_normal.jpeg\n",
      "Working on 4_8_1_normal.jpeg\n",
      "Working on 4_9_1_normal.jpeg\n",
      "Working on 50_1_1_normal.jpeg\n",
      "Working on 50_2_1_normal.jpeg\n",
      "Working on 50_3_1_normal.jpeg\n",
      "Working on 50_4_1_normal.jpeg\n",
      "Working on 50_5_1_normal.jpeg\n",
      "Working on 50_6_1_normal.jpeg\n",
      "Working on 50_7_1_normal.jpeg\n",
      "Working on 50_8_1_normal.jpeg\n",
      "Working on 51_1_1_normal.jpeg\n",
      "Working on 51_2_1_normal.jpeg\n",
      "Working on 51_3_1_normal.jpeg\n",
      "Working on 51_4_1_normal.jpeg\n",
      "Working on 51_5_1_normal.jpeg\n",
      "Working on 51_6_1_normal.jpeg\n",
      "Working on 51_7_1_normal.jpeg\n",
      "Working on 51_8_1_normal.jpeg\n",
      "Working on 52_1_1_normal.jpeg\n",
      "Working on 52_2_1_normal.jpeg\n",
      "Working on 52_3_1_normal.jpeg\n",
      "Working on 52_4_1_normal.jpeg\n",
      "Working on 52_5_1_normal.jpeg\n",
      "Working on 52_6_1_normal.jpeg\n",
      "Working on 52_7_1_normal.jpeg\n",
      "Working on 52_8_1_normal.jpeg\n",
      "Working on 53_1_1_normal.jpeg\n",
      "Working on 53_2_1_normal.jpeg\n",
      "Working on 53_3_1_normal.jpeg\n",
      "Working on 53_4_1_normal.jpeg\n",
      "Working on 53_5_1_normal.jpeg\n",
      "Working on 53_6_1_normal.jpeg\n",
      "Working on 53_7_1_normal.jpeg\n",
      "Working on 53_8_1_normal.jpeg\n",
      "Working on 54_1_1_normal.jpeg\n",
      "Working on 54_2_1_normal.jpeg\n",
      "Working on 54_3_1_normal.jpeg\n",
      "Working on 54_4_1_normal.jpeg\n",
      "Working on 54_5_1_normal.jpeg\n",
      "Working on 54_6_1_normal.jpeg\n",
      "Working on 54_7_1_normal.jpeg\n",
      "Working on 54_8_1_normal.jpeg\n",
      "Working on 55_1_1_normal.jpeg\n",
      "Working on 55_2_1_normal.jpeg\n",
      "Working on 55_3_1_normal.jpeg\n",
      "Working on 55_4_1_normal.jpeg\n",
      "Working on 55_5_1_normal.jpeg\n",
      "Working on 55_6_1_normal.jpeg\n",
      "Working on 55_7_1_normal.jpeg\n",
      "Working on 55_8_1_normal.jpeg\n",
      "Working on 56_1_1_normal.jpeg\n",
      "Working on 56_2_1_normal.jpeg\n",
      "Working on 56_3_1_normal.jpeg\n",
      "Working on 56_4_1_normal.jpeg\n",
      "Working on 56_5_1_normal.jpeg\n",
      "Working on 56_6_1_normal.jpeg\n",
      "Working on 56_7_1_normal.jpeg\n",
      "Working on 57_1_1_normal.jpeg\n",
      "Working on 57_2_1_normal.jpeg\n",
      "Working on 57_3_1_normal.jpeg\n",
      "Working on 57_4_1_normal.jpeg\n",
      "Working on 57_5_1_normal.jpeg\n",
      "Working on 57_6_1_normal.jpeg\n",
      "Working on 57_7_1_normal.jpeg\n",
      "Working on 58_2_1_normal.jpeg\n",
      "Working on 58_3_1_normal.jpeg\n",
      "Working on 58_4_1_normal.jpeg\n",
      "Working on 58_5_1_normal.jpeg\n",
      "Working on 58_6_1_normal.jpeg\n",
      "Working on 58_7_1_normal.jpeg\n",
      "Working on 59_2_1_normal.jpeg\n",
      "Working on 59_3_1_normal.jpeg\n",
      "Working on 59_4_1_normal.jpeg\n",
      "Working on 59_5_1_normal.jpeg\n",
      "Working on 59_6_1_normal.jpeg\n",
      "Working on 59_7_1_normal.jpeg\n",
      "Working on 5_10_1_normal.jpeg\n",
      "Working on 5_11_1_normal.jpeg\n",
      "Working on 5_12_1_normal.jpeg\n",
      "Working on 5_5_1_normal.jpeg\n",
      "Working on 5_6_1_normal.jpeg\n",
      "Working on 5_7_1_normal.jpeg\n",
      "Working on 5_8_1_normal.jpeg\n",
      "Working on 5_9_1_normal.jpeg\n",
      "Working on 60_2_1_normal.jpeg\n",
      "Working on 60_3_1_normal.jpeg\n",
      "Working on 60_4_1_normal.jpeg\n",
      "Working on 60_5_1_normal.jpeg\n",
      "Working on 60_6_1_normal.jpeg\n",
      "Working on 60_7_1_normal.jpeg\n",
      "Working on 61_2_1_normal.jpeg\n",
      "Working on 61_3_1_normal.jpeg\n",
      "Working on 61_4_1_normal.jpeg\n",
      "Working on 61_5_1_normal.jpeg\n",
      "Working on 61_6_1_normal.jpeg\n",
      "Working on 61_7_1_normal.jpeg\n",
      "Working on 62_2_1_normal.jpeg\n",
      "Working on 62_3_1_normal.jpeg\n",
      "Working on 62_4_1_normal.jpeg\n",
      "Working on 62_5_1_normal.jpeg\n",
      "Working on 62_6_1_normal.jpeg\n",
      "Working on 63_2_1_normal.jpeg\n",
      "Working on 63_3_1_normal.jpeg\n",
      "Working on 63_4_1_normal.jpeg\n",
      "Working on 63_5_1_normal.jpeg\n",
      "Working on 63_6_1_normal.jpeg\n",
      "Working on 63_7_1_normal.jpeg\n",
      "Working on 64_2_1_normal.jpeg\n",
      "Working on 64_3_1_normal.jpeg\n",
      "Working on 64_4_1_normal.jpeg\n",
      "Working on 64_5_1_normal.jpeg\n",
      "Working on 64_6_1_normal.jpeg\n",
      "Working on 65_2_1_normal.jpeg\n",
      "Working on 65_3_1_normal.jpeg\n",
      "Working on 65_4_1_normal.jpeg\n",
      "Working on 65_5_1_normal.jpeg\n",
      "Working on 65_6_1_normal.jpeg\n",
      "Working on 66_3_1_normal.jpeg\n",
      "Working on 66_4_1_normal.jpeg\n",
      "Working on 66_5_1_normal.jpeg\n",
      "Working on 66_6_1_normal.jpeg\n",
      "Working on 66_7_1_normal.jpeg\n",
      "Working on 67_3_1_normal.jpeg\n",
      "Working on 67_4_1_normal.jpeg\n",
      "Working on 67_5_1_normal.jpeg\n",
      "Working on 67_6_1_normal.jpeg\n",
      "Working on 67_7_1_normal.jpeg\n",
      "Working on 68_3_1_normal.jpeg\n",
      "Working on 68_4_1_normal.jpeg\n",
      "Working on 68_5_1_normal.jpeg\n",
      "Working on 68_6_1_normal.jpeg\n",
      "Working on 68_7_1_normal.jpeg\n",
      "Working on 69_4_1_normal.jpeg\n",
      "Working on 69_5_1_normal.jpeg\n",
      "Working on 69_6_1_normal.jpeg\n",
      "Working on 69_7_1_normal.jpeg\n",
      "Working on 6_10_1_normal.jpeg\n",
      "Working on 6_11_1_normal.jpeg\n",
      "Working on 6_12_1_normal.jpeg\n",
      "Working on 6_5_1_normal.jpeg\n",
      "Working on 6_6_1_normal.jpeg\n",
      "Working on 6_7_1_normal.jpeg\n",
      "Working on 6_8_1_normal.jpeg\n",
      "Working on 6_9_1_normal.jpeg\n",
      "Working on 70_4_1_normal.jpeg\n",
      "Working on 70_5_1_normal.jpeg\n",
      "Working on 70_6_1_normal.jpeg\n",
      "Working on 70_7_1_normal.jpeg\n",
      "Working on 71_4_1_normal.jpeg\n",
      "Working on 71_5_1_normal.jpeg\n",
      "Working on 71_6_1_normal.jpeg\n",
      "Working on 71_7_1_normal.jpeg\n",
      "Working on 7_10_1_normal.jpeg\n",
      "Working on 7_11_1_normal.jpeg\n",
      "Working on 7_12_1_normal.jpeg\n",
      "Working on 7_5_1_normal.jpeg\n",
      "Working on 7_6_1_normal.jpeg\n",
      "Working on 7_7_1_normal.jpeg\n",
      "Working on 7_8_1_normal.jpeg\n",
      "Working on 7_9_1_normal.jpeg\n",
      "Working on 8_10_1_normal.jpeg\n",
      "Working on 8_11_1_normal.jpeg\n",
      "Working on 8_12_1_normal.jpeg\n",
      "Working on 8_5_1_normal.jpeg\n",
      "Working on 8_6_1_normal.jpeg\n",
      "Working on 8_7_1_normal.jpeg\n",
      "Working on 8_8_1_normal.jpeg\n",
      "Working on 8_9_1_normal.jpeg\n",
      "Working on 9_10_1_normal.jpeg\n",
      "Working on 9_11_1_normal.jpeg\n",
      "Working on 9_12_1_normal.jpeg\n",
      "Working on 9_5_1_normal.jpeg\n",
      "Working on 9_6_1_normal.jpeg\n",
      "Working on 9_7_1_normal.jpeg\n",
      "Working on 9_8_1_normal.jpeg\n",
      "Working on 9_9_1_normal.jpeg\n"
     ]
    }
   ],
   "source": [
    "# Load the image\n",
    "from skimage import io, color\n",
    "import cv2\n",
    "import numpy as np\n",
    "import os\n",
    "\n",
    "white_all_tiles = []\n",
    "pink_all_tiles = []\n",
    "white_all_tiles = []\n",
    "purple_all_tiles = []\n",
    "total_all_tiles = []\n",
    "\n",
    "list_img = glob.glob(glob.glob(\"output/*/\")[0]+\"slide/*/*_normal.jpeg\")\n",
    "\n",
    "for filename in list_img: #WILL TAKE VERY LONG\n",
    "       \n",
    "    imageorig = cv2.imread(filename)\n",
    "    print(\"Working on \"+ os.path.basename(filename))\n",
    "    # Resize it\n",
    "    h, w, _ = imageorig.shape\n",
    "    w_new = int(100 * w / max(w, h) )\n",
    "    h_new = int(100 * h / max(w, h) )\n",
    "    image = cv2.resize(imageorig, (w_new, h_new));\n",
    "    # Using original image (possible to use resized image above for faster processing)\n",
    "    # Reshape image to be a list of pixels\n",
    "    imageorig_array = imageorig.reshape((imageorig.shape[0] * imageorig.shape[1], 3))\n",
    "    total,white,pink,purple = get_pixel_color_counts(imageorig_array,False)\n",
    "    total_all_tiles.extend([total])\n",
    "    white_all_tiles.extend([white])\n",
    "    pink_all_tiles.extend([pink])\n",
    "    purple_all_tiles.extend([purple])\n",
    "\n",
    "\n",
    "\n",
    "\n",
    "    \n",
    "    \n",
    "    \n",
    "    \n",
    "#convert color space from RGB to LAB\n",
    "#image = cv2.cvtColor(image, cv2.COLOR_RGB2LAB)\n",
    "\n",
    "\n",
    "# This line is to set L values to 0 and keep A and B\n",
    "#image[:,:,0]= 0\n",
    "#print(image)\n",
    "\n",
    "#cv2.imshow('image',image)\n",
    "#cv2.waitKey(0)\n",
    "#print(image[0][0])\n"
   ]
  },
  {
   "cell_type": "markdown",
   "metadata": {},
   "source": [
    "## Plot histograms of ratio of white, pink and purple pixels over total number of pixels across tiles [Run This]"
   ]
  },
  {
   "cell_type": "code",
   "execution_count": 7,
   "metadata": {},
   "outputs": [
    {
     "data": {
      "image/png": "[encoded data removed]",
      "text/plain": [
       "<matplotlib.figure.Figure at 0x119e82690>"
      ]
     },
     "metadata": {},
     "output_type": "display_data"
    },
    {
     "data": {
      "image/png": "[encoded data removed]",
      "text/plain": [
       "<matplotlib.figure.Figure at 0x10ba34490>"
      ]
     },
     "metadata": {},
     "output_type": "display_data"
    },
    {
     "data": {
      "image/png": "[encoded data removed]",
      "text/plain": [
       "<matplotlib.figure.Figure at 0x10a1d5210>"
      ]
     },
     "metadata": {},
     "output_type": "display_data"
    }
   ],
   "source": [
    "import matplotlib.pyplot as plt\n",
    "import numpy as np\n",
    "\n",
    "plt.hist(white_all_tiles, bins='auto',color = \"gray\",edgecolor='black', linewidth=1.2,range=[0, 1])  # arguments are passed to np.histogram\n",
    "plt.title(\"Histogram of \\n white_pixels/all_pixels across tiles\")\n",
    "plt.show()\n",
    "plt.hist(pink_all_tiles, bins='auto',color = \"pink\",edgecolor='black', linewidth=1.2,range=[0, 1])  # arguments are passed to np.histogram\n",
    "plt.title(\"Histogram of \\n pink_pixels/all_pixels across tiles\")\n",
    "plt.show()\n",
    "plt.hist(purple_all_tiles, bins='auto',color = \"purple\",edgecolor='black', linewidth=1.2,range=[0, 1])  # arguments are passed to np.histogram\n",
    "plt.title(\"Histogram of \\n purple_pixels/all_pixels across tiles\")\n",
    "plt.show()"
   ]
  },
  {
   "cell_type": "markdown",
   "metadata": {},
   "source": [
    "## Find sum of purple/non-purple over all tiles and estimate total cancer [Run This]"
   ]
  },
  {
   "cell_type": "code",
   "execution_count": 9,
   "metadata": {},
   "outputs": [
    {
     "name": "stdout",
     "output_type": "stream",
     "text": [
      "Total cancer: 0.235162862454\n"
     ]
    }
   ],
   "source": [
    "#Total pixels across all tiles\n",
    "total_pixels_of_tiles = sum(total_all_tiles)\n",
    "#Total purple pixels across all tiles (((ratio of purple/all pixels) * all pixels) in each tile)\n",
    "total_purple_pixels_of_tiles = sum([a*b for a,b in zip(purple_all_tiles,total_all_tiles)])\n",
    "#Total cancer is total purple pixels/total all pixels\n",
    "print(\"Total cancer: \"+ str(total_purple_pixels_of_tiles/total_pixels_of_tiles))"
   ]
  },
  {
   "cell_type": "markdown",
   "metadata": {},
   "source": [
    "## Test of various ways to annotate pink, white and purple pixels (Commented out)"
   ]
  },
  {
   "cell_type": "code",
   "execution_count": null,
   "metadata": {
    "collapsed": true,
    "scrolled": true
   },
   "outputs": [],
   "source": [
    "#from scipy.spatial import distance\n",
    "#import numpy as np\n",
    "#from scipy.stats import rankdata\n",
    "\n",
    "#pink = [255,192,203]\n",
    "#purple = [128,0,128]\n",
    "#white = [255,255,255]\n",
    "\n",
    "#a = np.array([pink,white,purple])\n",
    "#b = np.array([[232.21804653,225.47207084,235.11397529],[67.25475005,28.18760198,62.60561427],[136.8342103,93.84363329,161.96761943]])\n",
    "#d = distance.cdist(a, b, 'euclidean')\n",
    "#print(d[:,2])\n",
    "#values = d[:,2]\n",
    "\n",
    "#myList = [sum(item) for item in b]\n",
    "#print((rankdata(myList) - 1).astype(int))\n",
    "#myList = [501,2,500,3]\n",
    "#print(np.argsort(myList))\n",
    "#print([c[0] for c in sorted(enumerate(myList),key=lambda i:i[1])])\n",
    "#print(np.sum(b[0]))\n",
    "#print(np.sum(b[1]))\n",
    "#print(np.sum(b[2]))\n",
    "#print(np.argmin(values))\n",
    "#print(distance.euclidean(a[1],b[0]))"
   ]
  },
  {
   "cell_type": "markdown",
   "metadata": {},
   "source": [
    "## Possible way of counting colors per pixel (if exact color range is known) (Commented out)"
   ]
  },
  {
   "cell_type": "code",
   "execution_count": null,
   "metadata": {
    "collapsed": true
   },
   "outputs": [],
   "source": [
    "#from PIL import Image , ImageStat\n",
    "\n",
    "\n",
    "#im = Image.open(\"112_16_1.jpeg\").convert('L')\n",
    "#stat = ImageStat.Stat(im)\n",
    "#print(\"Read RMS brightness of image: \")\n",
    "#print(stat.extrema)\n",
    "#print(stat.count)\n",
    "#print(stat.sum)\n",
    "\n",
    "\n",
    "#black = 0\n",
    "#red = 0\n",
    "\n",
    "#for pixel in im.getdata():\n",
    "    #if pixel == (0, 0, 0): # if your image is RGB (if RGBA, (0, 0, 0, 255) or so\n",
    "       # black += 1\n",
    "    #else:\n",
    "     #   red += 1\n",
    "#print('black=' + str(black)+', red='+str(red))"
   ]
  },
  {
   "cell_type": "code",
   "execution_count": null,
   "metadata": {
    "collapsed": true
   },
   "outputs": [],
   "source": [
    "## Possible way of counting colors per pixel (if exact color range is known) (Commented out)"
   ]
  },
  {
   "cell_type": "code",
   "execution_count": 5,
   "metadata": {},
   "outputs": [
    {
     "data": {
      "image/png": "[encoded data removed]",
      "text/plain": [
       "<matplotlib.figure.Figure at 0x112a71d30>"
      ]
     },
     "metadata": {},
     "output_type": "display_data"
    },
    {
     "name": "stdout",
     "output_type": "stream",
     "text": [
      "Number of objects found: 561\n"
     ]
    },
    {
     "data": {
      "image/png": "[encoded data removed]",
      "text/plain": [
       "<matplotlib.figure.Figure at 0x112c8ac50>"
      ]
     },
     "metadata": {},
     "output_type": "display_data"
    },
    {
     "data": {
      "image/png": "[encoded data removed]",
      "text/plain": [
       "<matplotlib.figure.Figure at 0x112e545c0>"
      ]
     },
     "metadata": {},
     "output_type": "display_data"
    },
    {
     "name": "stdout",
     "output_type": "stream",
     "text": [
      "Number of objects found: 1741\n"
     ]
    },
    {
     "data": {
      "image/png": "[encoded data removed]",
      "text/plain": [
       "<matplotlib.figure.Figure at 0x113475828>"
      ]
     },
     "metadata": {},
     "output_type": "display_data"
    }
   ],
   "source": [
    "#Featured at http://www.scipy-lectures.org/packages/scikit-image/auto_examples/plot_threshold.html\n",
    "#Featured at http://www.meccanismocomplesso.org/en/opencv-python-otsu-binarization-thresholding/\n",
    "#Features at https://github.com/luispedro/python-image-tutorial/blob/master/Segmenting%20cell%20images%20(fluorescent%20microscopy).ipynb\n",
    "\n",
    "import cv2\n",
    "import numpy as np\n",
    "from matplotlib import pyplot as plt\n",
    "from skimage import data\n",
    "from skimage import filters\n",
    "from skimage import exposure\n",
    "import mahotas as mh\n",
    "from pylab import imshow, show\n",
    "\n",
    "img = cv2.imread('Small_test_images_jpeg/test_tiny.jpg',0)\n",
    "\n",
    "######################Otsu_thresholding_option1######################\n",
    "val = filters.threshold_otsu(img)\n",
    "hist, bins_center = exposure.histogram(img)\n",
    "plt.figure(figsize=(9, 4))\n",
    "plt.subplot(131)\n",
    "plt.title('Original Noisy Image')\n",
    "plt.imshow(img, cmap='gray', interpolation='nearest')\n",
    "plt.axis('off')\n",
    "plt.subplot(132)\n",
    "plt.title('Otsu thresholding')\n",
    "plt.imshow(img < val, cmap='gray', interpolation='nearest')\n",
    "plt.axis('off')\n",
    "plt.subplot(133)\n",
    "plt.title('Histogram')\n",
    "plt.plot(bins_center, hist, lw=2)\n",
    "plt.axvline(val, color='k', ls='--')\n",
    "plt.tight_layout()\n",
    "plt.show()\n",
    "##################################################################\n",
    "########################Counting cells with connected component labeling with otsu option1########################\n",
    "labeled, nr_objects = mh.label(img < val)\n",
    "print(\"Number of objects found: \"+ str(nr_objects))\n",
    "imshow(labeled)\n",
    "show()\n",
    "#plt.imshow(labeled)\n",
    "\n",
    "#plt.jet()\n",
    "\n",
    "##################################################################\n",
    "######################Otsu_thresholding_option2############################################\n",
    "ret, imgf = cv2.threshold(img, 0, 255, cv2.THRESH_BINARY+cv2.THRESH_OTSU)\n",
    "plt.figure(figsize=(9, 4))\n",
    "plt.subplot(131), plt.imshow(img,cmap = 'gray')\n",
    "plt.title('Original Noisy Image')#, plt.xticks([]), plt.yticks([])\n",
    "plt.subplot(132), plt.imshow(imgf,cmap = 'gray')\n",
    "plt.title('Otsu thresholding')#, plt.xticks([]), plt.yticks([])\n",
    "plt.subplot(133), plt.hist(img.ravel(), 256)\n",
    "plt.axvline(x=ret, color='r', linestyle='dashed', linewidth=2)\n",
    "plt.title('Histogram')#, plt.xticks([]), plt.yticks([])\n",
    "plt.tight_layout()\n",
    "plt.show()\n",
    "##################################################################\n",
    "########################Counting cells with connected component labeling otsu option2########################\n",
    "labeled, nr_objects = mh.label(imgf)\n",
    "print(\"Number of objects found: \"+ str(nr_objects))\n",
    "imshow(labeled)\n",
    "show()\n",
    "#plt.imshow(labeled)\n",
    "\n",
    "#plt.jet()\n",
    "\n",
    "##################################################################"
   ]
  },
  {
   "cell_type": "code",
   "execution_count": null,
   "metadata": {
    "collapsed": true
   },
   "outputs": [],
   "source": []
  },
  {
   "cell_type": "code",
   "execution_count": null,
   "metadata": {
    "collapsed": true
   },
   "outputs": [],
   "source": []
  }
 ],
 "metadata": {
  "kernelspec": {
   "display_name": "Python 3",
   "language": "python",
   "name": "python3"
  },
  "language_info": {
   "codemirror_mode": {
    "name": "ipython",
    "version": 3
   },
   "file_extension": ".py",
   "mimetype": "text/x-python",
   "name": "python",
   "nbconvert_exporter": "python",
   "pygments_lexer": "ipython3",
   "version": "3.6.4"
  }
 },
 "nbformat": 4,
 "nbformat_minor": 2
}
